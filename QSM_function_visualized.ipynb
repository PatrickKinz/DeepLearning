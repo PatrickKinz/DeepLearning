{
 "cells": [
  {
   "cell_type": "code",
   "execution_count": 1,
   "id": "75a2d3b4",
   "metadata": {},
   "outputs": [],
   "source": [
    "import numpy as np\n",
    "import matplotlib.pyplot as plt\n",
    "%matplotlib inline\n",
    "from ipywidgets import interact\n",
    "from ipywidgets import interactive\n",
    "import ipywidgets as widgets\n",
    "#from QSM_and_qBOLD_functions import f_qBOLD, f_QSM"
   ]
  },
  {
   "cell_type": "code",
   "execution_count": 2,
   "id": "d6bac4a3",
   "metadata": {},
   "outputs": [],
   "source": [
    "def f_nu(Y,chi_nb,QSM):\n",
    "    Hct = 0.357\n",
    "    SaO2 = 0.98\n",
    "    alpha = 0.77;              # Ratio of deoxygenated and total blood volume\n",
    "    delta_chi_Hb = 12.522;     # Susceptibility difference between dHb and Hb in ppm\n",
    "    psi_Hb = Hct*0.34/1.335    # Blood Hb volume fraction\n",
    "    chi_oHb = -0.813           # Susceptibility of oxyhemoglobin in ppm\n",
    "    chi_p = -0.0377            # Susceptibility of plasma in ppm\n",
    "    chi_ba = psi_Hb*chi_oHb + (1-psi_Hb)*chi_p # Susceptibility of fully oxygenated blood in ppm\n",
    "    \n",
    "    nenner = (chi_ba-chi_nb)/alpha + psi_Hb*delta_chi_Hb * ((1-(1-alpha)*SaO2)/alpha - Y)\n",
    "    nu = (QSM - chi_nb) / nenner\n",
    "    return nu"
   ]
  },
  {
   "cell_type": "code",
   "execution_count": 9,
   "id": "157513ba",
   "metadata": {},
   "outputs": [],
   "source": [
    "def plot_nu(chi_nb,QSM):\n",
    "    chi_nb=chi_nb/1000\n",
    "    QSM=QSM/1000\n",
    "    Y= np.linspace(0, 98, num=1000)/100\n",
    "    fig, axes = plt.subplots(nrows=2,ncols=1,figsize=(12,10))\n",
    "    ax=axes.ravel()\n",
    "    nu=f_nu(Y,chi_nb,QSM)\n",
    "    ax[0].plot(Y*100,nu*100)\n",
    "    ax[0].set_xlabel('Y [%]')\n",
    "    ax[0].set_ylabel('nu [%]')\n",
    "    ax[1].plot(Y*100,nu*100)\n",
    "    ax[1].set_xlabel('Y [%]')\n",
    "    ax[1].set_ylabel('nu [%]')\n",
    "    ax[1].set_ylim(-10,10)\n",
    "    plt.show()\n",
    "    "
   ]
  },
  {
   "cell_type": "code",
   "execution_count": 11,
   "id": "46c72e10",
   "metadata": {},
   "outputs": [
    {
     "data": {
      "application/vnd.jupyter.widget-view+json": {
       "model_id": "7b10ef22e8d545dda94bd8d0d51eea02",
       "version_major": 2,
       "version_minor": 0
      },
      "text/plain": [
       "interactive(children=(FloatSlider(value=-35.0, continuous_update=False, description='chi_nb [ppb]', min=-100.0…"
      ]
     },
     "metadata": {},
     "output_type": "display_data"
    }
   ],
   "source": [
    "chi_nb_slider1=widgets.FloatSlider(min=-100, max=   100, value=-35, step= 1, description='chi_nb [ppb]', continuous_update=False)\n",
    "QSM_slider1=widgets.FloatSlider(min=-100, max=   100, value=-25, step= 1, description='chi_total [ppb]', continuous_update=False)\n",
    "interactive_plot_nu = interactive(plot_nu,chi_nb=chi_nb_slider1,QSM=QSM_slider1)\n",
    "output_nu = interactive_plot_nu.children[-1]\n",
    "output_nu.layout.height = '700px'\n",
    "interactive_plot_nu"
   ]
  },
  {
   "cell_type": "code",
   "execution_count": 155,
   "id": "47d67c62",
   "metadata": {},
   "outputs": [],
   "source": [
    "def plot_nu_2D(chi_nb):\n",
    "    chi_nb=chi_nb/1000\n",
    "    QSM=np.linspace(chi_nb-0.1,chi_nb+0.1,num=100)\n",
    "    Y= np.linspace(0, 98, num=100)/100\n",
    "    A,B = np.meshgrid(Y,QSM)\n",
    "    nu= f_nu(A,chi_nb,B)\n",
    "    fig, axes = plt.subplots(nrows=1,ncols=1,figsize=(6,5))\n",
    "    #ax=axes.ravel()\n",
    "    p=axes.pcolor(A*100,(B-chi_nb)*1000,nu*100,shading='nearest',vmin=0,vmax=10,cmap='inferno')\n",
    "    axes.set_xlabel('Y [%]')\n",
    "    axes.set_ylabel('QSM - $\\chi_{nb}$ [ppb]')\n",
    "    cb = fig.colorbar(p, ax=axes)\n",
    "    cb.set_label('$v$ [%]')\n",
    "    \n",
    "    axes.plot(Y*100,(f_QSM(Y,0.1,chi_nb)-chi_nb)*1000,'g' )\n",
    "    axes.plot(Y*100,(f_QSM(Y,0.001,chi_nb)-chi_nb)*1000,'g' )\n",
    "    axes.set_ylim(-100,100)\n",
    "    plt.show()\n",
    "    "
   ]
  },
  {
   "cell_type": "code",
   "execution_count": 157,
   "id": "f7b8ad7c",
   "metadata": {},
   "outputs": [
    {
     "data": {
      "application/vnd.jupyter.widget-view+json": {
       "model_id": "1f99dfaeb8e5441db0e4c5c4faa7a508",
       "version_major": 2,
       "version_minor": 0
      },
      "text/plain": [
       "interactive(children=(FloatSlider(value=-35.0, continuous_update=False, description='chi_nb [ppb]', min=-100.0…"
      ]
     },
     "metadata": {},
     "output_type": "display_data"
    }
   ],
   "source": [
    "chi_nb_slider_nu_2D=widgets.FloatSlider(min=-100, max=   100, value=-35, step= 1, description='chi_nb [ppb]', continuous_update=False)\n",
    "interactive_plot_nu_2D = interactive(plot_nu_2D,chi_nb=chi_nb_slider_nu_2D)\n",
    "output_nu_2D = interactive_plot_nu_2D.children[-1]\n",
    "output_nu_2D.layout.height = '400px'\n",
    "interactive_plot_nu_2D"
   ]
  },
  {
   "cell_type": "code",
   "execution_count": 13,
   "id": "93d8b600",
   "metadata": {},
   "outputs": [],
   "source": [
    "def f_Y(nu,chi_nb,QSM):\n",
    "    Hct = 0.357\n",
    "    SaO2 = 0.98\n",
    "    alpha = 0.77;              # Ratio of deoxygenated and total blood volume\n",
    "    delta_chi_Hb = 12.522;     # Susceptibility difference between dHb and Hb in ppm\n",
    "    psi_Hb = Hct*0.34/1.335    # Blood Hb volume fraction\n",
    "    chi_oHb = -0.813           # Susceptibility of oxyhemoglobin in ppm\n",
    "    chi_p = -0.0377            # Susceptibility of plasma in ppm\n",
    "    chi_ba = psi_Hb*chi_oHb + (1-psi_Hb)*chi_p # Susceptibility of fully oxygenated blood in ppm\n",
    "    \n",
    "    Summand = (QSM-chi_nb)/nu -(chi_ba - chi_nb)/alpha\n",
    "    return (1-(1-alpha)*SaO2)/alpha - Summand/( psi_Hb*delta_chi_Hb )"
   ]
  },
  {
   "cell_type": "code",
   "execution_count": 14,
   "id": "673db137",
   "metadata": {},
   "outputs": [],
   "source": [
    "def plot_Y(chi_nb,QSM):\n",
    "    chi_nb=chi_nb/1000\n",
    "    QSM=QSM/1000\n",
    "    nu= np.linspace(0.1, 10, num=100)/100\n",
    "    Y= f_Y(nu,chi_nb,QSM)\n",
    "    fig, axes = plt.subplots(nrows=2,ncols=1,figsize=(12,10))\n",
    "    ax=axes.ravel()\n",
    "    ax[0].plot(nu*100,Y)\n",
    "    ax[0].set_xlabel('nu [%]')\n",
    "    ax[0].set_ylabel('Y')\n",
    "    ax[1].plot(nu*100,Y*100)\n",
    "    ax[1].set_xlabel('nu [%]')\n",
    "    ax[1].set_ylabel('Y [%]')\n",
    "    ax[1].set_ylim(0,100)\n",
    "    plt.show()\n",
    "    "
   ]
  },
  {
   "cell_type": "code",
   "execution_count": 15,
   "id": "c92030fe",
   "metadata": {},
   "outputs": [
    {
     "data": {
      "application/vnd.jupyter.widget-view+json": {
       "model_id": "49e012b927744169b95e969dca0dfa14",
       "version_major": 2,
       "version_minor": 0
      },
      "text/plain": [
       "interactive(children=(FloatSlider(value=-40.0, continuous_update=False, description='chi_nb [ppb]', min=-100.0…"
      ]
     },
     "metadata": {},
     "output_type": "display_data"
    }
   ],
   "source": [
    "chi_nb_slider2=widgets.FloatSlider(min=-100, max= 100, value=-40, step= 1, description='chi_nb [ppb]', continuous_update=False)\n",
    "QSM_slider2=widgets.FloatSlider(min=-100, max= 100, value=-20, step= 1, description='chi_total [ppb]', continuous_update=False)\n",
    "interactive_plot_Y = interactive(plot_Y,chi_nb=chi_nb_slider2,QSM=QSM_slider2)\n",
    "output_Y = interactive_plot_Y.children[-1]\n",
    "output_Y.layout.height = '700px'\n",
    "interactive_plot_Y"
   ]
  },
  {
   "cell_type": "code",
   "execution_count": 151,
   "id": "fd5a546f",
   "metadata": {},
   "outputs": [],
   "source": [
    "def plot_Y_2D(chi_nb):\n",
    "    chi_nb=chi_nb/1000\n",
    "    QSM=np.linspace(chi_nb-0.1,chi_nb+0.1,num=100)\n",
    "    nu= np.linspace(0.1, 10, num=100)/100\n",
    "    A,B = np.meshgrid(nu,QSM)\n",
    "    Y= f_Y(A,chi_nb,B)\n",
    "    fig, axes = plt.subplots(nrows=1,ncols=1,figsize=(6,5))\n",
    "    #ax=axes.ravel()\n",
    "    p=axes.pcolor(A*100,(B-chi_nb)*1000,Y*100,shading='nearest',vmin=0,vmax=100,cmap='inferno')\n",
    "    axes.set_xlabel('nu [%]')\n",
    "    axes.set_ylabel('QSM-$\\chi_{nb}$ [ppb]')\n",
    "    cb = fig.colorbar(p, ax=axes)\n",
    "    cb.set_label('Y [%]')\n",
    "    \n",
    "    axes.plot(nu*100,(f_QSM(0.98,nu,chi_nb)-chi_nb)*1000,'g' )\n",
    "    axes.plot(nu*100,(f_QSM(0.01,nu,chi_nb)-chi_nb)*1000,'g' )\n",
    "    axes.set_ylim(-100,100)\n",
    "    plt.show()\n",
    "    "
   ]
  },
  {
   "cell_type": "code",
   "execution_count": 153,
   "id": "35b64b0b",
   "metadata": {},
   "outputs": [
    {
     "data": {
      "application/vnd.jupyter.widget-view+json": {
       "model_id": "ecb54e74b2ad43e4b6fa4fd6f8253bde",
       "version_major": 2,
       "version_minor": 0
      },
      "text/plain": [
       "interactive(children=(FloatSlider(value=-35.0, continuous_update=False, description='chi_nb [ppb]', min=-100.0…"
      ]
     },
     "metadata": {},
     "output_type": "display_data"
    }
   ],
   "source": [
    "chi_nb_slider_Y_2D=widgets.FloatSlider(min=-100, max=   100, value=-35, step= 1, description='chi_nb [ppb]', continuous_update=False)\n",
    "interactive_plot_Y_2D = interactive(plot_Y_2D,chi_nb=chi_nb_slider_Y_2D)\n",
    "output_Y_2D = interactive_plot_Y_2D.children[-1]\n",
    "output_Y_2D.layout.height = '400px'\n",
    "interactive_plot_Y_2D"
   ]
  },
  {
   "cell_type": "code",
   "execution_count": 83,
   "id": "842c19b1",
   "metadata": {},
   "outputs": [],
   "source": [
    "def f_QSM(Y, nu, chi_nb ):\n",
    "    Hct = 0.357\n",
    "    SaO2 = 0.98\n",
    "    alpha = 0.77;              # Ratio of deoxygenated and total blood volume\n",
    "    delta_chi_Hb = 12.522;     # Susceptibility difference between dHb and Hb in ppm\n",
    "    psi_Hb = Hct*0.34/1.335    # Blood Hb volume fraction\n",
    "    chi_oHb = -0.813           # Susceptibility of oxyhemoglobin in ppm\n",
    "    chi_p = -0.0377            # Susceptibility of plasma in ppm\n",
    "    chi_ba = psi_Hb*chi_oHb + (1-psi_Hb)*chi_p # Susceptibility of fully oxygenated blood in ppm\n",
    "\n",
    "    blood = (chi_ba/alpha +psi_Hb*delta_chi_Hb * ((1-(1-alpha)*SaO2)/alpha - Y) )*nu\n",
    "    non_blood = (1 - nu/alpha) * chi_nb\n",
    "    return blood + non_blood"
   ]
  },
  {
   "cell_type": "code",
   "execution_count": 17,
   "id": "360f1e7c",
   "metadata": {},
   "outputs": [],
   "source": [
    "def plot_QSM(Y_in, nu_in, chi_nb_in):\n",
    "    Y_array =np.linspace(0, 98, num=100)/100\n",
    "    nu_array= np.linspace(0.1, 10, num=100)/100\n",
    "    chi_nb_array = np.linspace(-0.1, 0.1, num=100)\n",
    "    fig, axes = plt.subplots(nrows=3,ncols=1,figsize=(12,10))\n",
    "    ax=axes.ravel()\n",
    "    QSM_Y= f_QSM(Y_array,nu_in,chi_nb_in)\n",
    "    ax[0].plot(Y_array*100,QSM_Y)\n",
    "    ax[0].set_xlabel('Y [%]')\n",
    "    ax[0].set_ylabel('QSM')\n",
    "    QSM_nu= f_QSM(Y_in,nu_array,chi_nb_in)\n",
    "    ax[1].plot(nu_array*100,QSM_nu)\n",
    "    ax[1].set_xlabel('nu [%]')\n",
    "    ax[1].set_ylabel('QSM')\n",
    "    #ax[1].set_ylim(0,100)\n",
    "    QSM_chi_nb= f_QSM(Y_in,nu_in,chi_nb_array)\n",
    "    ax[2].plot(chi_nb_array,QSM_chi_nb)\n",
    "    ax[2].set_xlabel('chi_nb [ppm]')\n",
    "    ax[2].set_ylabel('QSM')\n",
    "    plt.show()\n",
    "    "
   ]
  },
  {
   "cell_type": "code",
   "execution_count": 18,
   "id": "d6ca68eb",
   "metadata": {},
   "outputs": [
    {
     "data": {
      "application/vnd.jupyter.widget-view+json": {
       "model_id": "5327b1f29b994a6f8fc2a1082af1163d",
       "version_major": 2,
       "version_minor": 0
      },
      "text/plain": [
       "interactive(children=(FloatSlider(value=0.6, continuous_update=False, description='Y', max=0.98, step=0.01), F…"
      ]
     },
     "metadata": {},
     "output_type": "display_data"
    }
   ],
   "source": [
    "Y_slider3  = widgets.FloatSlider( min=   0, max= .98, value= .6, step= .01, description='Y', continuous_update=False)\n",
    "nu_slider3 = widgets.FloatSlider( min= .02, max= .06, value= .04, step= .01, description='nu', continuous_update=False)\n",
    "chi_nb_slider3=widgets.FloatSlider(min=-.1, max=   .1, value=-.04, step= .01, description='chi_nb [ppm]', continuous_update=False)\n",
    "interactive_plot_QSM = interactive(plot_QSM,Y_in=Y_slider3,nu_in=nu_slider3,chi_nb_in=chi_nb_slider3)\n",
    "output_QSM = interactive_plot_QSM.children[-1]\n",
    "output_QSM.layout.height = '700px'\n",
    "interactive_plot_QSM"
   ]
  },
  {
   "cell_type": "code",
   "execution_count": 27,
   "id": "b8a5c517",
   "metadata": {},
   "outputs": [
    {
     "data": {
      "text/plain": [
       "1.005974025974026"
      ]
     },
     "execution_count": 27,
     "metadata": {},
     "output_type": "execute_result"
    }
   ],
   "source": [
    "SaO2=0.98\n",
    "alpha=0.77 # Ratio of deoxygenated and total blood volume\n",
    "\n",
    "(1-SaO2*(1-alpha))/alpha"
   ]
  },
  {
   "cell_type": "code",
   "execution_count": 24,
   "id": "d97bc31b",
   "metadata": {},
   "outputs": [
    {
     "data": {
      "text/plain": [
       "-0.1081913213483146"
      ]
     },
     "execution_count": 24,
     "metadata": {},
     "output_type": "execute_result"
    }
   ],
   "source": [
    "Hct = 0.357\n",
    "psi_Hb = Hct*0.34/1.335    # Blood Hb volume fraction\n",
    "chi_oHb = -0.813           # Susceptibility of oxyhemoglobin in ppm\n",
    "chi_p = -0.0377            # Susceptibility of plasma in ppm\n",
    "chi_ba = psi_Hb*chi_oHb + (1-psi_Hb)*chi_p  #Susceptibility blood arterial= chi rote Blutkörperchen + chi Plasma\n",
    "\n",
    "chi_ba"
   ]
  },
  {
   "cell_type": "code",
   "execution_count": 25,
   "id": "b2bc9197",
   "metadata": {},
   "outputs": [
    {
     "data": {
      "text/plain": [
       "1.1385171235955056"
      ]
     },
     "execution_count": 25,
     "metadata": {},
     "output_type": "execute_result"
    }
   ],
   "source": [
    "delta_chi_Hb = 12.522;     # Susceptibility difference between dHb and Hb in ppm\n",
    "psi_Hb = Hct*0.34/1.335    # Blood Hb volume fraction\n",
    "\n",
    "psi_Hb*delta_chi_Hb    "
   ]
  },
  {
   "cell_type": "markdown",
   "id": "d6230021",
   "metadata": {},
   "source": [
    "QSM > chi_nb most of the time. Enforce it always?"
   ]
  },
  {
   "cell_type": "code",
   "execution_count": 149,
   "id": "f13e4d7e",
   "metadata": {},
   "outputs": [],
   "source": [
    "def plot_deltaQSM_chi_nb(chi_nb_in):\n",
    "    Y =np.linspace(0, 98, num=100)/100\n",
    "    nu= np.linspace(0.1, 10, num=100)/100\n",
    "    A,B = np.meshgrid(Y,nu)\n",
    "    QSM= f_QSM(A,B,chi_nb_in)\n",
    "    data=(QSM-chi_nb_in)*1000\n",
    "    minVal =  np.min(data[np.nonzero(data)])\n",
    "    maxVal =  np.max(data[np.nonzero(data)])\n",
    "    fig, axes = plt.subplots(nrows=1,ncols=1,figsize=(6,5))\n",
    "    #ax=axes.ravel()\n",
    "    p=axes.pcolor(A*100,B*100,data,shading='nearest',vmin=-30,vmax=120,cmap='inferno')\n",
    "    axes.set_xlabel('Y [%]')\n",
    "    axes.set_ylabel('nu [%]')\n",
    "    cbar = fig.colorbar(p, ax=axes)\n",
    "    cbar.set_label('QSM-$\\chi_{nb}$ [ppb]')\n",
    "    \n",
    "    ticks = list(cbar.get_ticks())\n",
    "\n",
    "    # Append the ticks (and their labels) for minimum and the maximum value\n",
    "    cbar.set_ticks([minVal, maxVal] + ticks)\n",
    "    cbar.set_ticklabels(['min {: .1f}'.format(minVal), 'max {: .1f}'.format(maxVal)] + ticks)\n",
    "    plt.show()\n",
    "\n",
    "    "
   ]
  },
  {
   "cell_type": "code",
   "execution_count": 154,
   "id": "42b989dc",
   "metadata": {},
   "outputs": [
    {
     "data": {
      "application/vnd.jupyter.widget-view+json": {
       "model_id": "74ca1397dc094d2fbf0118309b141ee6",
       "version_major": 2,
       "version_minor": 0
      },
      "text/plain": [
       "interactive(children=(FloatSlider(value=-0.04, continuous_update=False, description='chi_nb [ppm]', max=0.1, m…"
      ]
     },
     "metadata": {},
     "output_type": "display_data"
    }
   ],
   "source": [
    "chi_nb_slider4=widgets.FloatSlider(min=-.1, max=   .1, value=-.04, step= .01, description='chi_nb [ppm]', continuous_update=False)\n",
    "interactive_plot_deltaQSM_chi_nb = interactive(plot_deltaQSM_chi_nb,chi_nb_in=chi_nb_slider4)\n",
    "output_deltaQSM_chi_nb = interactive_plot_deltaQSM_chi_nb.children[-1]\n",
    "output_deltaQSM_chi_nb.layout.height = '400px'\n",
    "interactive_plot_deltaQSM_chi_nb"
   ]
  },
  {
   "cell_type": "code",
   "execution_count": null,
   "id": "39c9a9e1",
   "metadata": {},
   "outputs": [],
   "source": []
  }
 ],
 "metadata": {
  "kernelspec": {
   "display_name": "Python-GPU-Kernel",
   "language": "python",
   "name": "python-gpu-kernel"
  },
  "language_info": {
   "codemirror_mode": {
    "name": "ipython",
    "version": 3
   },
   "file_extension": ".py",
   "mimetype": "text/x-python",
   "name": "python",
   "nbconvert_exporter": "python",
   "pygments_lexer": "ipython3",
   "version": "3.8.10"
  }
 },
 "nbformat": 4,
 "nbformat_minor": 5
}
