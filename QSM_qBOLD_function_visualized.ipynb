{
 "cells": [
  {
   "cell_type": "code",
   "execution_count": 1,
   "id": "4aa77dd0",
   "metadata": {},
   "outputs": [],
   "source": [
    "import numpy as np\n",
    "import matplotlib.pyplot as plt\n",
    "%matplotlib inline\n",
    "from ipywidgets import interact\n",
    "from ipywidgets import interactive\n",
    "import ipywidgets as widgets\n",
    "#from QSM_and_qBOLD_functions import f_qBOLD, f_QSM"
   ]
  },
  {
   "cell_type": "code",
   "execution_count": 2,
   "id": "2cc65708",
   "metadata": {},
   "outputs": [],
   "source": [
    "def f_hyper(x):\n",
    "    '''\n",
    "    Write hypergeometric function as taylor order 10 for beginning and as x-1 for larger numbers\n",
    "    Exakt equation: hypergeom(-0.5,[0.75,1.25],-9/16*x.^2)-1\n",
    "    (Intersection>x)*taylor + (x>=Intersection)*(x-1)\n",
    "    taylor = - (81*x^8)/10890880 + (27*x^6)/80080 - (3*x^4)/280 + (3*x^2)/10\n",
    "    Intersection at approx x = 3.72395\n",
    "    \n",
    "    '''\n",
    "    Intersection = 3.72395\n",
    "    a = (Intersection>x)*( -81./10890880*pow(x,8) +27./80080*pow(x,6) -3./280*pow(x,4) +0.3*pow(x,2) )\n",
    "    b = (x>=Intersection)*(x-1)\n",
    "    return a + b"
   ]
  },
  {
   "cell_type": "markdown",
   "id": "aa215cc9",
   "metadata": {},
   "source": [
    "Hypergeometric Function is approx 0.3*x^2 for x <1.5 and x-1 for x>1.5"
   ]
  },
  {
   "cell_type": "code",
   "execution_count": 3,
   "id": "6031d77c",
   "metadata": {},
   "outputs": [
    {
     "data": {
      "image/png": "[encoded data removed]",
      "text/plain": [
       "<Figure size 432x288 with 1 Axes>"
      ]
     },
     "metadata": {
      "needs_background": "light"
     },
     "output_type": "display_data"
    }
   ],
   "source": [
    "plt.figure()\n",
    "x=np.linspace(0,5,num=100)\n",
    "plt.plot(x,f_hyper(x))\n",
    "plt.show()"
   ]
  },
  {
   "cell_type": "code",
   "execution_count": 4,
   "id": "4641ef16",
   "metadata": {},
   "outputs": [],
   "source": [
    "def f_dw(Y,chi_nb):\n",
    "    Hct = 0.357             \n",
    "    psi_Hb = Hct*0.34/1.335 # Blood Hb volume fraction\n",
    "    chi_oHb = -0.813        # Susceptibility of oxyhemoglobin in ppm\n",
    "    chi_p = -0.0377         # Susceptibility of plasma in ppm\n",
    "    chi_ba = psi_Hb*chi_oHb + (1-psi_Hb)*chi_p # Susceptibility of fully oxygenated blood in ppm\n",
    "    delta_chi0 = 4*np.pi*0.273 #in ppm\n",
    "    #CF = gamma *B0\n",
    "    gamma = 267.513 #MHz/T\n",
    "    B0 = 3 #T\n",
    "    dw = 1./3 * gamma * B0* (Hct * delta_chi0 * (1-Y) + chi_ba - chi_nb )\n",
    "    return dw"
   ]
  },
  {
   "cell_type": "code",
   "execution_count": 5,
   "id": "21ec032b",
   "metadata": {},
   "outputs": [],
   "source": [
    "def f_qBOLD(S0, R2, Y, nu, chi_nb, t,TE = 40./1000 ):\n",
    "    output=np.zeros_like(t)\n",
    "    for i in range(len(t)):\n",
    "        if(t[i]<TE/2): #FID\n",
    "            output[i] = S0 * np.exp(-R2*t[i] -nu * f_hyper(f_dw(Y,chi_nb) *     t[i] ) )\n",
    "        elif(t[i]>TE): #SE fall  \n",
    "            output[i] = S0 * np.exp(-R2*t[i] -nu * f_hyper(f_dw(Y,chi_nb) * (t[i]-TE) ) )\n",
    "        else:          #SE rise\n",
    "            output[i] = S0 * np.exp(-R2*t[i] -nu * f_hyper(f_dw(Y,chi_nb) * (TE-t[i]) ) )\n",
    "    return output\n"
   ]
  },
  {
   "cell_type": "code",
   "execution_count": 6,
   "id": "1dbfa8e2",
   "metadata": {},
   "outputs": [],
   "source": [
    "def f_QSM(Y, nu, chi_nb ):\n",
    "    Hct = 0.357\n",
    "    SaO2 = 0.98\n",
    "    alpha = 0.77;              # Ratio of deoxygenated and total blood volume\n",
    "    delta_chi_Hb = 12.522;     # Susceptibility difference between dHb and Hb in ppm\n",
    "    psi_Hb = Hct*0.34/1.335    # Blood Hb volume fraction\n",
    "    chi_oHb = -0.813           # Susceptibility of oxyhemoglobin in ppm\n",
    "    chi_p = -0.0377            # Susceptibility of plasma in ppm\n",
    "    chi_ba = psi_Hb*chi_oHb + (1-psi_Hb)*chi_p # Susceptibility of fully oxygenated blood in ppm\n",
    "\n",
    "    blood = (chi_ba/alpha +psi_Hb*delta_chi_Hb * ((1-(1-alpha)*SaO2)/alpha - Y) )*nu\n",
    "    non_blood = (1 - nu/alpha) * chi_nb\n",
    "    return blood + non_blood"
   ]
  },
  {
   "cell_type": "markdown",
   "id": "ba7dc9e6",
   "metadata": {},
   "source": [
    "White Matter: R2 = 12 +- 6 Hz, Y = 60 +- 30 %, nu = 4 +- 2%, chi_nb = -0.04 +- 0.04 ppm <br />\n",
    "Grey  Matter: R2 = 17 +- 4 Hz, Y = 60 +- 30 %, nu = 4 +- 2%, chi_nb = -0.05 +- 0.04 ppm"
   ]
  },
  {
   "cell_type": "code",
   "execution_count": 7,
   "id": "ab608584",
   "metadata": {},
   "outputs": [],
   "source": [
    "S0_slider = widgets.FloatSlider( min=   0, max=   2, value=  1, step=  .1, description='S0', continuous_update=False)\n",
    "R2_slider = widgets.IntSlider(   min=   6, max=  21, value= 12,            description='R2 [Hz]', continuous_update=False)\n",
    "Y_slider  = widgets.FloatSlider( min=   0, max= .98, value= .6, step= .01, description='Y', continuous_update=False)\n",
    "nu_slider = widgets.FloatSlider( min= .02, max= .06, value= .04, step= .01, description='nu', continuous_update=False)\n",
    "chi_nb_slider=widgets.FloatSlider(min=-.1, max=   0, value=-.04, step= .01, description='chi_nb [ppm]', continuous_update=False)\n",
    "TE_slider = widgets.IntSlider(   min=  5,  max= 100, value= 40,            description='TE [ms]', continuous_update=False)\n",
    "ui = widgets.HBox([S0_slider, R2_slider, Y_slider, nu_slider, chi_nb_slider, TE_slider])"
   ]
  },
  {
   "cell_type": "code",
   "execution_count": 8,
   "id": "84ff6e72",
   "metadata": {},
   "outputs": [],
   "source": [
    "def plot_QSM_qBOLD_Simon(S0, R2, Y, nu, chi_nb):\n",
    "    fig, axes = plt.subplots(nrows=1,ncols=2,figsize=(12,5),gridspec_kw={'width_ratios': [4, 1]})\n",
    "    ax=axes.ravel()\n",
    "    t = np.linspace(0, 50, num=100)/1000\n",
    "    ax[0].plot(t*1000,f_qBOLD(S0, R2, Y, nu, chi_nb,t, 100))\n",
    "    ax[0].plot(t*1000,S0*np.exp(-R2*t))\n",
    "    t_Simon = np.linspace(4.5,4.5+8*5.5,8)/1000\n",
    "    ax[0].plot(t_Simon*1000,f_qBOLD(S0, R2, Y, nu, chi_nb,t_Simon, 100),'or')\n",
    "    ax[0].title.set_text('qBOLD')\n",
    "    ax[0].set_xlabel('t [ms]')\n",
    "    ax[0].set_ylim(0, 1.1)\n",
    "    t_trans = 1.5/f_dw(Y,chi_nb)*1000 #Transition of Hypergeometric function \n",
    "    ax[0].vlines([t_trans],0,1.1,'k')\n",
    "    ax[1].plot(['non_blood','QSM'],[chi_nb,f_QSM(Y, nu, chi_nb)],'o')\n",
    "    ax[1].title.set_text('QSM')\n",
    "    ax[1].set_ylim(-0.1,0.05)\n",
    "    plt.show()"
   ]
  },
  {
   "cell_type": "code",
   "execution_count": 9,
   "id": "d8e1dfef",
   "metadata": {},
   "outputs": [
    {
     "data": {
      "application/vnd.jupyter.widget-view+json": {
       "model_id": "98c4d960d02e4f959e09e69923abeff2",
       "version_major": 2,
       "version_minor": 0
      },
      "text/plain": [
       "interactive(children=(FloatSlider(value=1.0, continuous_update=False, description='S0', max=2.0), IntSlider(va…"
      ]
     },
     "metadata": {},
     "output_type": "display_data"
    }
   ],
   "source": [
    "interactive_plot = interactive(plot_QSM_qBOLD_Simon,S0=S0_slider, R2=R2_slider, Y=Y_slider, nu=nu_slider, chi_nb = chi_nb_slider)\n",
    "output = interactive_plot.children[-1]\n",
    "output.layout.height = '350px'\n",
    "interactive_plot"
   ]
  },
  {
   "cell_type": "code",
   "execution_count": 10,
   "id": "b2b3ee88",
   "metadata": {},
   "outputs": [],
   "source": [
    "def plot_QSM_qBOLD_Sebastian(S0, R2, Y, nu, chi_nb):\n",
    "    t = np.linspace(0, 100, num=100)/1000\n",
    "    t_Sebastian = np.linspace(29,29+32*2,32)/1000\n",
    "    TE = (29+10*2)/1000\n",
    "    fig, axes = plt.subplots(nrows=1,ncols=2,figsize=(12,5),gridspec_kw={'width_ratios': [4, 1]})\n",
    "    ax=axes.ravel()\n",
    "    ax[0].plot(t*1000,f_qBOLD(S0, R2, Y, nu, chi_nb,t, TE))\n",
    "    ax[0].plot(t*1000,S0*np.exp(-R2*t))\n",
    "    ax[0].plot(t_Sebastian*1000,f_qBOLD(S0, R2, Y, nu, chi_nb,t_Sebastian, TE),'.r')\n",
    "    ax[0].title.set_text('qBOLD, TE = 49ms')\n",
    "    ax[0].set_xlabel('t [ms]')\n",
    "    ax[0].set_ylim(0, 1.1)\n",
    "    t_trans = 1.5/f_dw(Y,chi_nb)*1000 #Transition of Hypergeometric function \n",
    "    ax[0].vlines([TE*1000-t_trans,TE*1000+t_trans],0,1.1,'k')\n",
    "    ax[1].plot(['non_blood','QSM'],[chi_nb,f_QSM(Y, nu, chi_nb)],'o')\n",
    "    ax[1].title.set_text('QSM')\n",
    "    ax[1].set_ylim(-0.1,0.05)\n",
    "    plt.show()"
   ]
  },
  {
   "cell_type": "code",
   "execution_count": 11,
   "id": "579b329d",
   "metadata": {},
   "outputs": [
    {
     "data": {
      "application/vnd.jupyter.widget-view+json": {
       "model_id": "792e4966c5ab4c068a617048352a84b1",
       "version_major": 2,
       "version_minor": 0
      },
      "text/plain": [
       "interactive(children=(FloatSlider(value=1.0, continuous_update=False, description='S0', max=2.0), IntSlider(va…"
      ]
     },
     "metadata": {},
     "output_type": "display_data"
    }
   ],
   "source": [
    "interactive_plot = interactive(plot_QSM_qBOLD_Sebastian,S0=S0_slider, R2=R2_slider, Y=Y_slider, nu=nu_slider, chi_nb = chi_nb_slider)\n",
    "output = interactive_plot.children[-1]\n",
    "output.layout.height = '350px'\n",
    "interactive_plot"
   ]
  },
  {
   "cell_type": "code",
   "execution_count": 24,
   "id": "4b97ef26",
   "metadata": {},
   "outputs": [],
   "source": [
    "def plot_QSM_qBOLD(S0, R2, Y, nu, chi_nb, TE):\n",
    "    fig, axes = plt.subplots(nrows=2,ncols=2,figsize=(12,5),gridspec_kw={'width_ratios': [4, 1]})\n",
    "    gs = axes[0, 1].get_gridspec()\n",
    "    \n",
    "    t = np.linspace(0, 70, num=100)/1000\n",
    "    qBOLD_values = f_qBOLD(S0, R2, Y, nu, chi_nb,t, TE/1000)\n",
    "    Exp_values = S0*np.exp(-R2*t)\n",
    "    \n",
    "    t_sampled = np.linspace(3,3+16*3,16)/1000\n",
    "    qBOLD_sampled = f_qBOLD(S0, R2, Y, nu, chi_nb,t_sampled, TE/1000)\n",
    "    \n",
    "    axes[0,0].plot(t*1000,qBOLD_values)\n",
    "    axes[0,0].plot(t*1000,Exp_values)\n",
    "    axes[0,0].plot(t_sampled*1000,qBOLD_sampled,'.r')\n",
    "    axes[0,0].title.set_text('qBOLD')\n",
    "    axes[0,0].set_ylim(0, 1.1)\n",
    "    t_trans = 1.5/f_dw(Y,chi_nb)*1000 #Transition of Hypergeometric function \n",
    "    axes[0,0].vlines([t_trans,TE-t_trans,TE+t_trans],0,1.1,'k')\n",
    "    \n",
    "    axes[1,0].plot(t*1000,qBOLD_values-Exp_values)\n",
    "    axes[1,0].plot(t_sampled*1000,qBOLD_sampled-S0*np.exp(-R2*t_sampled),'.r')\n",
    "    axes[1,0].set_xlabel('t [ms]')\n",
    "    axes[1,0].set_ylim(-0.15,0.01)\n",
    "    \n",
    "    for ax in axes[:,1]:\n",
    "        ax.remove()\n",
    "    axbig = fig.add_subplot(gs[:,1])\n",
    "    axbig.plot(['non_blood','QSM'],[chi_nb,f_QSM(Y, nu, chi_nb)],'o')\n",
    "    axbig.title.set_text('QSM')\n",
    "    axbig.set_ylim(-0.1,0.05)\n",
    "    \n",
    "    \n",
    "    plt.show()"
   ]
  },
  {
   "cell_type": "code",
   "execution_count": 25,
   "id": "ab0e9933",
   "metadata": {},
   "outputs": [
    {
     "data": {
      "application/vnd.jupyter.widget-view+json": {
       "model_id": "d8ee54e357d54540882d8dfac18d10f9",
       "version_major": 2,
       "version_minor": 0
      },
      "text/plain": [
       "interactive(children=(FloatSlider(value=1.0, continuous_update=False, description='S0', max=2.0), IntSlider(va…"
      ]
     },
     "metadata": {},
     "output_type": "display_data"
    }
   ],
   "source": [
    "interactive_plot = interactive(plot_QSM_qBOLD,S0=S0_slider, R2=R2_slider, Y=Y_slider, nu=nu_slider, chi_nb = chi_nb_slider, TE=TE_slider)\n",
    "output = interactive_plot.children[-1]\n",
    "output.layout.height = '350px'\n",
    "interactive_plot"
   ]
  },
  {
   "cell_type": "code",
   "execution_count": null,
   "id": "0ee4713c",
   "metadata": {},
   "outputs": [],
   "source": []
  }
 ],
 "metadata": {
  "kernelspec": {
   "display_name": "Python-GPU-Kernel",
   "language": "python",
   "name": "python-gpu-kernel"
  },
  "language_info": {
   "codemirror_mode": {
    "name": "ipython",
    "version": 3
   },
   "file_extension": ".py",
   "mimetype": "text/x-python",
   "name": "python",
   "nbconvert_exporter": "python",
   "pygments_lexer": "ipython3",
   "version": "3.8.10"
  }
 },
 "nbformat": 4,
 "nbformat_minor": 5
}
