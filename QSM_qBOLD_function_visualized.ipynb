{
 "cells": [
  {
   "cell_type": "code",
   "execution_count": 1,
   "id": "4aa77dd0",
   "metadata": {},
   "outputs": [],
   "source": [
    "import numpy as np\n",
    "import matplotlib.pyplot as plt\n",
    "%matplotlib inline\n",
    "from ipywidgets import interact\n",
    "from ipywidgets import interactive\n",
    "import ipywidgets as widgets\n",
    "#from QSM_and_qBOLD_functions import f_qBOLD, f_QSM"
   ]
  },
  {
   "cell_type": "code",
   "execution_count": 2,
   "id": "2cc65708",
   "metadata": {},
   "outputs": [],
   "source": [
    "def f_hyper(x):\n",
    "    '''\n",
    "    Write hypergeometric function as taylor order 10 for beginning and as x-1 for larger numbers\n",
    "    Exakt equation: hypergeom(-0.5,[0.75,1.25],-9/16*x.^2)-1\n",
    "    (Intersection>x)*taylor + (x>=Intersection)*(x-1)\n",
    "    taylor = - (81*x^8)/10890880 + (27*x^6)/80080 - (3*x^4)/280 + (3*x^2)/10\n",
    "    Intersection at approx x = 3.72395\n",
    "    \n",
    "    '''\n",
    "    Intersection = 3.72395\n",
    "    a = (Intersection>x)*( -81./10890880*pow(x,8) +27./80080*pow(x,6) -3./280*pow(x,4) +0.3*pow(x,2) )\n",
    "    b = (x>=Intersection)*(x-1)\n",
    "    return a + b"
   ]
  },
  {
   "cell_type": "markdown",
   "id": "baef9142",
   "metadata": {},
   "source": [
    "Hypergeometric Function is approx 0.3*x^2 for x <1.5 and x-1 for x>1.5"
   ]
  },
  {
   "cell_type": "code",
   "execution_count": 3,
   "id": "568fbc96",
   "metadata": {},
   "outputs": [
    {
     "data": {
      "image/png": "[encoded data removed]",
      "text/plain": [
       "<Figure size 432x288 with 1 Axes>"
      ]
     },
     "metadata": {
      "needs_background": "light"
     },
     "output_type": "display_data"
    }
   ],
   "source": [
    "plt.figure()\n",
    "x=np.linspace(0,5,num=100)\n",
    "plt.plot(x,f_hyper(x))\n",
    "plt.fill_betweenx(y=[0,4],x1=0,x2=1.5,alpha=0.2,color='grey')\n",
    "plt.show()"
   ]
  },
  {
   "cell_type": "code",
   "execution_count": 4,
   "id": "4b73cf65",
   "metadata": {},
   "outputs": [],
   "source": [
    "def f_dw(Y,chi_nb):\n",
    "    Hct = 0.357             \n",
    "    psi_Hb = Hct*0.34/1.335 # Blood Hb volume fraction\n",
    "    chi_oHb = -0.813        # Susceptibility of oxyhemoglobin in ppm\n",
    "    chi_p = -0.0377         # Susceptibility of plasma in ppm\n",
    "    chi_ba = psi_Hb*chi_oHb + (1-psi_Hb)*chi_p # Susceptibility of fully oxygenated blood in ppm\n",
    "    delta_chi0 = 4*np.pi*0.273 #in ppm\n",
    "    #CF = gamma *B0\n",
    "    gamma = 267.513 #MHz/T\n",
    "    B0 = 3 #T\n",
    "    dw = 1./3 * gamma * B0* (Hct * delta_chi0 * (1-Y) + chi_ba - chi_nb )\n",
    "    return dw"
   ]
  },
  {
   "cell_type": "code",
   "execution_count": 5,
   "id": "ad5f5053",
   "metadata": {},
   "outputs": [],
   "source": [
    "def f_qBOLD(S0, R2, Y, nu, chi_nb, t,TE = 40./1000 ):\n",
    "    output=np.zeros_like(t)\n",
    "    for i in range(len(t)):\n",
    "        if(t[i]<TE/2): #FID\n",
    "            output[i] = S0 * np.exp(-R2*t[i] -nu * f_hyper(f_dw(Y,chi_nb) *     t[i] ) )\n",
    "        elif(t[i]>TE): #SE fall  \n",
    "            output[i] = S0 * np.exp(-R2*t[i] -nu * f_hyper(f_dw(Y,chi_nb) * (t[i]-TE) ) )\n",
    "        else:          #SE rise\n",
    "            output[i] = S0 * np.exp(-R2*t[i] -nu * f_hyper(f_dw(Y,chi_nb) * (TE-t[i]) ) )\n",
    "    return output\n"
   ]
  },
  {
   "cell_type": "code",
   "execution_count": 6,
   "id": "8c681794",
   "metadata": {},
   "outputs": [],
   "source": [
    "def f_QSM(Y, nu, chi_nb ):\n",
    "    Hct = 0.357\n",
    "    SaO2 = 0.98\n",
    "    alpha = 0.77;              # Ratio of deoxygenated and total blood volume\n",
    "    delta_chi_Hb = 12.522;     # Susceptibility difference between dHb and Hb in ppm\n",
    "    psi_Hb = Hct*0.34/1.335    # Blood Hb volume fraction\n",
    "    chi_oHb = -0.813           # Susceptibility of oxyhemoglobin in ppm\n",
    "    chi_p = -0.0377            # Susceptibility of plasma in ppm\n",
    "    chi_ba = psi_Hb*chi_oHb + (1-psi_Hb)*chi_p # Susceptibility of fully oxygenated blood in ppm\n",
    "\n",
    "    blood = (chi_ba/alpha +psi_Hb*delta_chi_Hb * ((1-(1-alpha)*SaO2)/alpha - Y) )*nu\n",
    "    non_blood = (1 - nu/alpha) * chi_nb\n",
    "    return blood + non_blood"
   ]
  },
  {
   "cell_type": "markdown",
   "id": "d20ad899",
   "metadata": {},
   "source": [
    "White Matter: R2 = 12 +- 6 Hz, Y = 60 +- 30 %, nu = 4 +- 2%, chi_nb = -0.04 +- 0.04 ppm <br />\n",
    "Grey  Matter: R2 = 17 +- 4 Hz, Y = 60 +- 30 %, nu = 4 +- 2%, chi_nb = -0.05 +- 0.04 ppm"
   ]
  },
  {
   "cell_type": "code",
   "execution_count": 14,
   "id": "5bfcb3e4",
   "metadata": {},
   "outputs": [],
   "source": [
    "S0_slider = widgets.FloatSlider( min=   0, max=   2, value=  1, step=  .1, description='S0', continuous_update=False)\n",
    "R2_slider = widgets.IntSlider(   min=   6, max=  21, value= 12,            description='R2 [Hz]', continuous_update=False)\n",
    "Y_slider  = widgets.FloatSlider( min=   0, max= .98, value= .6, step= .01, description='Y', continuous_update=False)\n",
    "nu_slider = widgets.FloatSlider( min= .02, max= .06, value= .04, step= .01, description='nu', continuous_update=False)\n",
    "chi_nb_slider=widgets.FloatSlider(min=-.1, max=   0.1, value=-.04, step= .01, description='chi_nb [ppm]', continuous_update=False)\n",
    "TE_slider = widgets.IntSlider(   min=  5,  max= 100, value= 40,            description='TE [ms]', continuous_update=False)\n",
    "ui = widgets.HBox([S0_slider, R2_slider, Y_slider, nu_slider, chi_nb_slider, TE_slider])"
   ]
  },
  {
   "cell_type": "code",
   "execution_count": 15,
   "id": "fca068d8",
   "metadata": {},
   "outputs": [],
   "source": [
    "def plot_QSM_qBOLD_GRE(S0, R2, Y, nu, chi_nb):\n",
    "    fig, axes = plt.subplots(nrows=1,ncols=2,figsize=(12,5),gridspec_kw={'width_ratios': [4, 1]})\n",
    "    ax=axes.ravel()\n",
    "    \n",
    "    t = np.linspace(0, 50, num=100)/1000\n",
    "    ax[0].plot(t*1000,f_qBOLD(S0, R2, Y, nu, chi_nb,t, 100))\n",
    "    ax[0].plot(t*1000,S0*np.exp(-R2*t))\n",
    "    \n",
    "    t_GRE = np.linspace(4.5,4.5+8*5.5,8)/1000\n",
    "    ax[0].plot(t_GRE*1000,f_qBOLD(S0, R2, Y, nu, chi_nb,t_GRE, 100),'or')\n",
    "    \n",
    "    ax[0].title.set_text('qBOLD')\n",
    "    ax[0].set_xlabel('t [ms]')\n",
    "    ax[0].set_ylim(0, 1.1)\n",
    "    t_trans = 1.5/f_dw(Y,chi_nb)*1000 #Transition of Hypergeometric function \n",
    "    ax[0].fill_betweenx(y=[0,1.1],x1=0,x2=t_trans,alpha=0.2,color='grey')\n",
    "    \n",
    "    ax[1].plot(['non_blood','QSM'],[chi_nb,f_QSM(Y, nu, chi_nb)],'o')\n",
    "    ax[1].title.set_text('QSM')\n",
    "    ax[1].set_ylim(-0.1,0.05)\n",
    "    plt.show()"
   ]
  },
  {
   "cell_type": "code",
   "execution_count": 16,
   "id": "d2973692",
   "metadata": {},
   "outputs": [
    {
     "data": {
      "application/vnd.jupyter.widget-view+json": {
       "model_id": "c7e4e99e90d343adb6641ca57127678e",
       "version_major": 2,
       "version_minor": 0
      },
      "text/plain": [
       "interactive(children=(FloatSlider(value=1.0, continuous_update=False, description='S0', max=2.0), IntSlider(va…"
      ]
     },
     "metadata": {},
     "output_type": "display_data"
    }
   ],
   "source": [
    "interactive_plot = interactive(plot_QSM_qBOLD_GRE,S0=S0_slider, R2=R2_slider, Y=Y_slider, nu=nu_slider, chi_nb = chi_nb_slider)\n",
    "output = interactive_plot.children[-1]\n",
    "output.layout.height = '350px'\n",
    "interactive_plot"
   ]
  },
  {
   "cell_type": "code",
   "execution_count": 10,
   "id": "d7fa4e4d",
   "metadata": {},
   "outputs": [],
   "source": [
    "def plot_QSM_qBOLD_GESSE(S0, R2, Y, nu, chi_nb):\n",
    "    TE = (29+10*2)/1000\n",
    "    fig, axes = plt.subplots(nrows=1,ncols=2,figsize=(12,5),gridspec_kw={'width_ratios': [4, 1]})\n",
    "    ax=axes.ravel()\n",
    "    \n",
    "    t = np.linspace(0, 100, num=100)/1000\n",
    "    ax[0].plot(t*1000,f_qBOLD(S0, R2, Y, nu, chi_nb,t, TE))\n",
    "    ax[0].plot(t*1000,S0*np.exp(-R2*t))\n",
    "    \n",
    "    t_GESSE = np.linspace(29,29+32*2,32)/1000\n",
    "    ax[0].plot(t_GESSE*1000,f_qBOLD(S0, R2, Y, nu, chi_nb,t_GESSE, TE),'.r')\n",
    "    ax[0].title.set_text('qBOLD, TE = 49ms')\n",
    "    ax[0].set_xlabel('t [ms]')\n",
    "    ax[0].set_ylim(0, 1.1)\n",
    "    t_trans = 1.5/f_dw(Y,chi_nb)*1000 #Transition of Hypergeometric function \n",
    "    ax[0].fill_betweenx(y=[0,1.1],x1=0,x2=t_trans,alpha=0.2,color='grey')\n",
    "    ax[0].fill_betweenx(y=[0,1.1],x1=TE*1000-t_trans,x2=TE*1000+t_trans,alpha=0.2,color='grey')\n",
    "    \n",
    "    ax[1].plot(['non_blood','QSM'],[chi_nb,f_QSM(Y, nu, chi_nb)],'o')\n",
    "    ax[1].title.set_text('QSM')\n",
    "    ax[1].set_ylim(-0.1,0.05)\n",
    "    plt.show()"
   ]
  },
  {
   "cell_type": "code",
   "execution_count": 17,
   "id": "9138cf27",
   "metadata": {},
   "outputs": [
    {
     "data": {
      "application/vnd.jupyter.widget-view+json": {
       "model_id": "4a51e619e4834767afb718ebce3d0cd6",
       "version_major": 2,
       "version_minor": 0
      },
      "text/plain": [
       "interactive(children=(FloatSlider(value=1.0, continuous_update=False, description='S0', max=2.0), IntSlider(va…"
      ]
     },
     "metadata": {},
     "output_type": "display_data"
    }
   ],
   "source": [
    "interactive_plot = interactive(plot_QSM_qBOLD_GESSE,S0=S0_slider, R2=R2_slider, Y=Y_slider, nu=nu_slider, chi_nb = chi_nb_slider)\n",
    "output = interactive_plot.children[-1]\n",
    "output.layout.height = '350px'\n",
    "interactive_plot"
   ]
  },
  {
   "cell_type": "code",
   "execution_count": 12,
   "id": "6a13030f",
   "metadata": {},
   "outputs": [],
   "source": [
    "def plot_QSM_qBOLD(S0, R2, Y, nu, chi_nb, TE):\n",
    "    fig, axes = plt.subplots(nrows=2,ncols=2,figsize=(12,10),gridspec_kw={'width_ratios': [4, 1]})\n",
    "    gs = axes[0, 1].get_gridspec()\n",
    "    \n",
    "    t = np.linspace(0, 70, num=100)/1000\n",
    "    qBOLD_values = f_qBOLD(S0, R2, Y, nu, chi_nb,t, TE/1000)\n",
    "    Exp_values = S0*np.exp(-R2*t)\n",
    "    \n",
    "    t_sampled = np.linspace(3,3+16*3,16)/1000\n",
    "    qBOLD_sampled = f_qBOLD(S0, R2, Y, nu, chi_nb,t_sampled, TE/1000)\n",
    "    \n",
    "    axes[0,0].plot(t*1000,qBOLD_values)\n",
    "    axes[0,0].plot(t*1000,Exp_values)\n",
    "    axes[0,0].plot(t_sampled*1000,qBOLD_sampled,'.r')\n",
    "    axes[0,0].title.set_text('qBOLD')\n",
    "    axes[0,0].set_ylim(0, 1.1)\n",
    "    t_trans = 1.5/f_dw(Y,chi_nb)*1000 #Transition of Hypergeometric function \n",
    "    #axes[0,0].vlines([t_trans,TE-t_trans,TE+t_trans],0,1.1,'k')\n",
    "    axes[0,0].fill_betweenx(y=[0,1.1],x1=0,x2=t_trans,alpha=0.2,color='grey')\n",
    "    axes[0,0].fill_betweenx(y=[0,1.1],x1=TE-t_trans,x2=TE+t_trans,alpha=0.2,color='grey')\n",
    "    \n",
    "    axes[1,0].plot(t*1000,qBOLD_values-Exp_values)\n",
    "    axes[1,0].plot(t_sampled*1000,qBOLD_sampled-S0*np.exp(-R2*t_sampled),'.r')\n",
    "    axes[1,0].set_xlabel('t [ms]')\n",
    "    axes[1,0].set_ylim(-0.15,0.01)\n",
    "    axes[1,0].fill_betweenx(y=[-0.15,0.01],x1=0,x2=t_trans,alpha=0.2,color='grey')\n",
    "    axes[1,0].fill_betweenx(y=[-0.15,0.01],x1=TE-t_trans,x2=TE+t_trans,alpha=0.2,color='grey')\n",
    "    \n",
    "    for ax in axes[:,1]:\n",
    "        ax.remove()\n",
    "    axbig = fig.add_subplot(gs[:,1])\n",
    "    axbig.plot(['non_blood','QSM'],[chi_nb,f_QSM(Y, nu, chi_nb)],'o')\n",
    "    axbig.title.set_text('QSM')\n",
    "    axbig.set_ylim(-0.1,0.05)\n",
    "    \n",
    "    \n",
    "    plt.show()"
   ]
  },
  {
   "cell_type": "code",
   "execution_count": 18,
   "id": "cbc9dd77",
   "metadata": {},
   "outputs": [
    {
     "data": {
      "application/vnd.jupyter.widget-view+json": {
       "model_id": "7c7d4e37dc6c441a899c90040621a500",
       "version_major": 2,
       "version_minor": 0
      },
      "text/plain": [
       "interactive(children=(FloatSlider(value=1.0, continuous_update=False, description='S0', max=2.0), IntSlider(va…"
      ]
     },
     "metadata": {},
     "output_type": "display_data"
    }
   ],
   "source": [
    "interactive_plot = interactive(plot_QSM_qBOLD,S0=S0_slider, R2=R2_slider, Y=Y_slider, nu=nu_slider, chi_nb = chi_nb_slider, TE=TE_slider)\n",
    "output = interactive_plot.children[-1]\n",
    "output.layout.height = '700px'\n",
    "interactive_plot"
   ]
  },
  {
   "cell_type": "markdown",
   "id": "2bde46f4",
   "metadata": {},
   "source": [
    "Look at log(f_qBOLD)"
   ]
  },
  {
   "cell_type": "code",
   "execution_count": null,
   "id": "860d48fb",
   "metadata": {},
   "outputs": [],
   "source": [
    "def plot_QSM_qBOLD_log(S0, R2, Y, nu, chi_nb, TE):\n",
    "    fig, axes = plt.subplots(nrows=2,ncols=2,figsize=(12,10),gridspec_kw={'width_ratios': [4, 1]})\n",
    "    gs = axes[0, 1].get_gridspec()\n",
    "    \n",
    "    t = np.linspace(0, 70, num=100)/1000\n",
    "    qBOLD_values = f_qBOLD(S0, R2, Y, nu, chi_nb,t, TE/1000)\n",
    "    Exp_values = S0*np.exp(-R2*t)\n",
    "    \n",
    "    t_sampled = np.linspace(3,3+16*3,16)/1000\n",
    "    qBOLD_sampled = f_qBOLD(S0, R2, Y, nu, chi_nb,t_sampled, TE/1000)\n",
    "    \n",
    "    axes[0,0].plot(t*1000,qBOLD_values)\n",
    "    axes[0,0].plot(t*1000,Exp_values)\n",
    "    axes[0,0].plot(t_sampled*1000,qBOLD_sampled,'.r')\n",
    "    axes[0,0].title.set_text('qBOLD')\n",
    "    #axes[0,0].set_ylim(0, 1.1)\n",
    "    axes[0,0].set_yscale('log')\n",
    "    t_trans = 1.5/f_dw(Y,chi_nb)*1000 #Transition of Hypergeometric function \n",
    "    #axes[0,0].vlines([t_trans,TE-t_trans,TE+t_trans],0,1.1,'k')\n",
    "    axes[0,0].fill_betweenx(y=[0,1.1],x1=0,x2=t_trans,alpha=0.2,color='grey')\n",
    "    axes[0,0].fill_betweenx(y=[0,1.1],x1=TE-t_trans,x2=TE+t_trans,alpha=0.2,color='grey')\n",
    "    \n",
    "    axes[1,0].plot(t*1000,qBOLD_values-Exp_values)\n",
    "    axes[1,0].plot(t_sampled*1000,qBOLD_sampled-S0*np.exp(-R2*t_sampled),'.r')\n",
    "    axes[1,0].set_xlabel('t [ms]')\n",
    "    axes[1,0].set_ylim(-0.15,0.01)\n",
    "    axes[1,0].fill_betweenx(y=[-0.15,0.01],x1=0,x2=t_trans,alpha=0.2,color='grey')\n",
    "    axes[1,0].fill_betweenx(y=[-0.15,0.01],x1=TE-t_trans,x2=TE+t_trans,alpha=0.2,color='grey')\n",
    "    \n",
    "    for ax in axes[:,1]:\n",
    "        ax.remove()\n",
    "    axbig = fig.add_subplot(gs[:,1])\n",
    "    axbig.plot(['non_blood','QSM'],[chi_nb,f_QSM(Y, nu, chi_nb)],'o')\n",
    "    axbig.title.set_text('QSM')\n",
    "    axbig.set_ylim(-0.1,0.05)\n",
    "    \n",
    "    \n",
    "    plt.show()"
   ]
  },
  {
   "cell_type": "code",
   "execution_count": null,
   "id": "d62b62f9",
   "metadata": {},
   "outputs": [],
   "source": [
    "interactive_plot = interactive(plot_QSM_qBOLD_log,S0=S0_slider, R2=R2_slider, Y=Y_slider, nu=nu_slider, chi_nb = chi_nb_slider, TE=TE_slider)\n",
    "output = interactive_plot.children[-1]\n",
    "output.layout.height = '700px'\n",
    "interactive_plot"
   ]
  },
  {
   "cell_type": "markdown",
   "id": "0e9d247c",
   "metadata": {},
   "source": [
    "Compare Y=0.6,nu=0.04 with Y=0.3, nu=0.02. They look very similar in shape of qBOLD and in QSM, but width of grey areas is different "
   ]
  },
  {
   "cell_type": "code",
   "execution_count": null,
   "id": "ba5f9b0d",
   "metadata": {},
   "outputs": [],
   "source": [
    "fig, axes = plt.subplots(nrows=2,ncols=2,figsize=(12,10),gridspec_kw={'width_ratios': [4, 1]})\n",
    "gs = axes[0, 1].get_gridspec()\n",
    "R2=12    \n",
    "chi_nb=-0.08\n",
    "\n",
    "t = np.linspace(0, 70, num=100)/1000\n",
    "qBOLD_values1 = f_qBOLD(S0=1, R2=R2, Y=0.6, nu=0.04, chi_nb=chi_nb,t=t, TE=40/1000)\n",
    "qBOLD_values2 = f_qBOLD(S0=1, R2=R2, Y=0.3, nu=0.02, chi_nb=chi_nb,t=t, TE=40/1000)\n",
    "qBOLD_values3 = f_qBOLD(S0=1, R2=R2, Y=0.6, nu=0.02, chi_nb=chi_nb,t=t, TE=40/1000)\n",
    "qBOLD_values4 = f_qBOLD(S0=1, R2=R2, Y=0.3, nu=0.04, chi_nb=chi_nb,t=t, TE=40/1000)\n",
    "Exp_values = 1*np.exp(-R2*t)\n",
    "   \n",
    "t_sampled = np.linspace(3,3+16*3,16)/1000\n",
    "qBOLD_sampled1 = f_qBOLD(S0=1, R2=R2, Y=0.6, nu=0.04, chi_nb=chi_nb,t=t_sampled, TE=40/1000)\n",
    "qBOLD_sampled2 = f_qBOLD(S0=1, R2=R2, Y=0.3, nu=0.02, chi_nb=chi_nb,t=t_sampled, TE=40/1000)\n",
    "qBOLD_sampled3 = f_qBOLD(S0=1, R2=R2, Y=0.6, nu=0.02, chi_nb=chi_nb,t=t_sampled, TE=40/1000)\n",
    "qBOLD_sampled4 = f_qBOLD(S0=1, R2=R2, Y=0.3, nu=0.04, chi_nb=chi_nb,t=t_sampled, TE=40/1000)\n",
    "\n",
    "\n",
    "axes[0,0].plot(t*1000,qBOLD_values1,'r')\n",
    "axes[0,0].plot(t*1000,qBOLD_values2,'g')\n",
    "axes[0,0].plot(t*1000,qBOLD_values3,'b')\n",
    "axes[0,0].plot(t*1000,qBOLD_values4,'y')\n",
    "axes[0,0].plot(t*1000,Exp_values,'k',label='R2 = ' + str(R2)+' Hz')\n",
    "axes[0,0].plot(t_sampled*1000,qBOLD_sampled1,'.r',label='Y=60% nu=4%')\n",
    "axes[0,0].plot(t_sampled*1000,qBOLD_sampled2,'.g',label='Y=30% nu=2%')\n",
    "axes[0,0].plot(t_sampled*1000,qBOLD_sampled3,'.b',label='Y=60% nu=2%')\n",
    "axes[0,0].plot(t_sampled*1000,qBOLD_sampled4,'.y',label='Y=30% nu=4%')\n",
    "axes[0,0].legend()\n",
    "\n",
    "axes[0,0].title.set_text('qBOLD')\n",
    "axes[0,0].set_ylim(0, 1.1)\n",
    "#axes[0,0].set_yscale('log')\n",
    "\n",
    "axes[1,0].plot(t*1000,qBOLD_values1-Exp_values,'r')\n",
    "axes[1,0].plot(t*1000,qBOLD_values2-Exp_values,'g')\n",
    "axes[1,0].plot(t*1000,qBOLD_values3-Exp_values,'b')\n",
    "axes[1,0].plot(t*1000,qBOLD_values4-Exp_values,'y')\n",
    "axes[1,0].plot(t_sampled*1000,qBOLD_sampled1-1*np.exp(-R2*t_sampled),'.r',label='Y=60% nu=4%')\n",
    "axes[1,0].plot(t_sampled*1000,qBOLD_sampled2-1*np.exp(-R2*t_sampled),'.g',label='Y=30% nu=2%')\n",
    "axes[1,0].plot(t_sampled*1000,qBOLD_sampled3-1*np.exp(-R2*t_sampled),'.b',label='Y=60% nu=2%')\n",
    "axes[1,0].plot(t_sampled*1000,qBOLD_sampled4-1*np.exp(-R2*t_sampled),'.y',label='Y=30% nu=4%')\n",
    "axes[1,0].legend()\n",
    "axes[1,0].set_xlabel('t [ms]')\n",
    "axes[1,0].set_ylim(-0.15,0.01)\n",
    "\n",
    "for ax in axes[:,1]:\n",
    "    ax.remove()\n",
    "axbig = fig.add_subplot(gs[:,1])\n",
    "#axbig.plot(['non_blood'],-0.04,'ok')\n",
    "axbig.plot(['1'],f_QSM(Y=0.6, nu=0.04, chi_nb=chi_nb),'or')\n",
    "axbig.plot(['2'],f_QSM(Y=0.3, nu=0.02, chi_nb=chi_nb),'og')\n",
    "axbig.plot(['3'],f_QSM(Y=0.6, nu=0.02, chi_nb=chi_nb),'ob')\n",
    "axbig.plot(['4'],f_QSM(Y=0.3, nu=0.04, chi_nb=chi_nb),'oy')\n",
    "axbig.title.set_text('QSM')\n",
    "axbig.set_ylim(-0.1,0.05)\n",
    "\n",
    "plt.show()"
   ]
  },
  {
   "cell_type": "code",
   "execution_count": null,
   "id": "f9a6bcd5",
   "metadata": {},
   "outputs": [],
   "source": []
  },
  {
   "cell_type": "code",
   "execution_count": null,
   "id": "cd62be39",
   "metadata": {},
   "outputs": [],
   "source": []
  },
  {
   "cell_type": "code",
   "execution_count": null,
   "id": "3ea320fb",
   "metadata": {},
   "outputs": [],
   "source": []
  }
 ],
 "metadata": {
  "kernelspec": {
   "display_name": "Python-GPU-Kernel",
   "language": "python",
   "name": "python-gpu-kernel"
  },
  "language_info": {
   "codemirror_mode": {
    "name": "ipython",
    "version": 3
   },
   "file_extension": ".py",
   "mimetype": "text/x-python",
   "name": "python",
   "nbconvert_exporter": "python",
   "pygments_lexer": "ipython3",
   "version": "3.8.10"
  }
 },
 "nbformat": 4,
 "nbformat_minor": 5
}
