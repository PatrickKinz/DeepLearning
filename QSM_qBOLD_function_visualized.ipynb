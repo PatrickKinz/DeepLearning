{
 "cells": [
  {
   "cell_type": "code",
   "execution_count": 1,
   "id": "4aa77dd0",
   "metadata": {},
   "outputs": [],
   "source": [
    "import numpy as np\n",
    "import matplotlib.pyplot as plt\n",
    "%matplotlib inline\n",
    "from ipywidgets import interact\n",
    "from ipywidgets import interactive\n",
    "import ipywidgets as widgets\n",
    "#from QSM_and_qBOLD_functions import f_qBOLD, f_QSM\n",
    "from scipy.optimize import curve_fit"
   ]
  },
  {
   "cell_type": "code",
   "execution_count": 2,
   "id": "2cc65708",
   "metadata": {},
   "outputs": [],
   "source": [
    "def f_hyper(x):\n",
    "    '''\n",
    "    Write hypergeometric function as taylor order 10 for beginning and as x-1 for larger numbers\n",
    "    Exakt equation: hypergeom(-0.5,[0.75,1.25],-9/16*x.^2)-1\n",
    "    (Intersection>x)*taylor + (x>=Intersection)*(x-1)\n",
    "    taylor = - (81*x^8)/10890880 + (27*x^6)/80080 - (3*x^4)/280 + (3*x^2)/10\n",
    "    Intersection at approx x = 3.72395\n",
    "    \n",
    "    '''\n",
    "    Intersection = 3.72395\n",
    "    a = (Intersection>x)*( -81./10890880*pow(x,8) +27./80080*pow(x,6) -3./280*pow(x,4) +0.3*pow(x,2) )\n",
    "    b = (x>=Intersection)*(x-1)\n",
    "    return a + b"
   ]
  },
  {
   "cell_type": "markdown",
   "id": "baef9142",
   "metadata": {},
   "source": [
    "Hypergeometric Function is approx 0.3*x^2 for x <1.5 and x-1 for x>1.5"
   ]
  },
  {
   "cell_type": "code",
   "execution_count": 3,
   "id": "568fbc96",
   "metadata": {},
   "outputs": [
    {
     "data": {
      "image/png": "[encoded data removed]",
      "text/plain": [
       "<Figure size 432x288 with 1 Axes>"
      ]
     },
     "metadata": {
      "needs_background": "light"
     },
     "output_type": "display_data"
    }
   ],
   "source": [
    "plt.figure()\n",
    "x=np.linspace(0,5,num=100)\n",
    "plt.plot(x,f_hyper(x))\n",
    "plt.fill_betweenx(y=[0,4],x1=0,x2=1.5,alpha=0.2,color='grey')\n",
    "plt.show()"
   ]
  },
  {
   "cell_type": "code",
   "execution_count": 4,
   "id": "4b73cf65",
   "metadata": {},
   "outputs": [],
   "source": [
    "def f_dw(Y,chi_nb):\n",
    "    Hct = 0.357             \n",
    "    psi_Hb = Hct*0.34/1.335 # Blood Hb volume fraction\n",
    "    chi_oHb = -0.813        # Susceptibility of oxyhemoglobin in ppm\n",
    "    chi_p = -0.0377         # Susceptibility of plasma in ppm\n",
    "    chi_ba = psi_Hb*chi_oHb + (1-psi_Hb)*chi_p # Susceptibility of fully oxygenated blood in ppm\n",
    "    delta_chi0 = 4*np.pi*0.273 #in ppm\n",
    "    #CF = gamma *B0\n",
    "    gamma = 267.513 #10^6 rad/s/T\n",
    "    #gamma = 42.577 #gamma divided by 2pi in MHz/T\n",
    "    B0 = 3 #T\n",
    "    dw = 1./3 * gamma * B0* (Hct * delta_chi0 * (1-Y) + chi_ba - chi_nb )\n",
    "    return dw"
   ]
  },
  {
   "cell_type": "code",
   "execution_count": 5,
   "id": "ad5f5053",
   "metadata": {},
   "outputs": [],
   "source": [
    "def f_qBOLD(t, S0, R2, Y, nu, chi_nb, TE = 40./1000 ):\n",
    "    output=np.zeros_like(t)\n",
    "    for i in range(len(t)):\n",
    "        if(t[i]<TE/2): #FID\n",
    "            output[i] = S0 * np.exp(-R2*t[i] -nu * f_hyper(f_dw(Y,chi_nb) *     t[i] ) )\n",
    "        elif(t[i]>TE): #SE fall  \n",
    "            output[i] = S0 * np.exp(-R2*t[i] -nu * f_hyper(f_dw(Y,chi_nb) * (t[i]-TE) ) )\n",
    "        else:          #SE rise\n",
    "            output[i] = S0 * np.exp(-R2*t[i] -nu * f_hyper(f_dw(Y,chi_nb) * (TE-t[i]) ) )\n",
    "    return output\n"
   ]
  },
  {
   "cell_type": "code",
   "execution_count": 6,
   "id": "8c681794",
   "metadata": {},
   "outputs": [],
   "source": [
    "def f_QSM(Y, nu, chi_nb ):\n",
    "    Hct = 0.357\n",
    "    SaO2 = 0.98\n",
    "    alpha = 0.77;              # Ratio of deoxygenated and total blood volume\n",
    "    delta_chi_Hb = 12.522;     # Susceptibility difference between dHb and Hb in ppm\n",
    "    psi_Hb = Hct*0.34/1.335    # Blood Hb volume fraction\n",
    "    chi_oHb = -0.813           # Susceptibility of oxyhemoglobin in ppm\n",
    "    chi_p = -0.0377            # Susceptibility of plasma in ppm\n",
    "    chi_ba = psi_Hb*chi_oHb + (1-psi_Hb)*chi_p # Susceptibility of fully oxygenated blood in ppm\n",
    "\n",
    "    blood = (chi_ba/alpha +psi_Hb*delta_chi_Hb * ((1-(1-alpha)*SaO2)/alpha - Y) )*nu\n",
    "    non_blood = (1 - nu/alpha) * chi_nb\n",
    "    return blood + non_blood"
   ]
  },
  {
   "cell_type": "markdown",
   "id": "d20ad899",
   "metadata": {},
   "source": [
    "White Matter: R2 = 12 +- 6 Hz, Y = 60 +- 30 %, nu = 4 +- 2%, chi_nb = -0.04 +- 0.04 ppm <br />\n",
    "Grey  Matter: R2 = 17 +- 4 Hz, Y = 60 +- 30 %, nu = 4 +- 2%, chi_nb = -0.05 +- 0.04 ppm"
   ]
  },
  {
   "cell_type": "code",
   "execution_count": 7,
   "id": "5bfcb3e4",
   "metadata": {},
   "outputs": [],
   "source": [
    "S0_slider = widgets.FloatSlider( min=   0, max=   2, value=  1, step=  .1, description='S0', continuous_update=False)\n",
    "R2_slider = widgets.IntSlider(   min=   6, max=  21, value= 12,            description='R2 [Hz]', continuous_update=False)\n",
    "Y_slider  = widgets.FloatSlider( min=   0, max= .98, value= .6, step= .01, description='Y', continuous_update=False)\n",
    "nu_slider = widgets.FloatSlider( min= .02, max= .06, value= .04, step= .01, description='nu', continuous_update=False)\n",
    "chi_nb_slider=widgets.FloatSlider(min=-.1, max=   0.1, value=-.04, step= .01, description='chi_nb [ppm]', continuous_update=False)\n",
    "TE_slider = widgets.IntSlider(   min=  5,  max= 100, value= 40,            description='TE [ms]', continuous_update=False)\n",
    "ui = widgets.HBox([S0_slider, R2_slider, Y_slider, nu_slider, chi_nb_slider, TE_slider])"
   ]
  },
  {
   "cell_type": "code",
   "execution_count": 8,
   "id": "fca068d8",
   "metadata": {},
   "outputs": [],
   "source": [
    "def plot_QSM_qBOLD_GRE(S0, R2, Y, nu, chi_nb):\n",
    "    fig, axes = plt.subplots(nrows=1,ncols=2,figsize=(12,5),gridspec_kw={'width_ratios': [4, 1]})\n",
    "    ax=axes.ravel()\n",
    "    \n",
    "    t = np.linspace(0, 50, num=100)/1000\n",
    "    ax[0].plot(t*1000,f_qBOLD(t,S0, R2, Y, nu, chi_nb, 100))\n",
    "    ax[0].plot(t*1000,S0*np.exp(-R2*t))\n",
    "    \n",
    "    t_GRE = np.linspace(4.5,4.5+8*5.5,8)/1000\n",
    "    ax[0].plot(t_GRE*1000,f_qBOLD(t_GRE,S0, R2, Y, nu, chi_nb, 100),'or')\n",
    "    \n",
    "    ax[0].title.set_text('qBOLD')\n",
    "    ax[0].set_xlabel('t [ms]')\n",
    "    ax[0].set_ylim(0, 1.1)\n",
    "    t_trans = 1.5/f_dw(Y,chi_nb)*1000 #Transition of Hypergeometric function \n",
    "    ax[0].fill_betweenx(y=[0,1.1],x1=0,x2=t_trans,alpha=0.2,color='grey')\n",
    "    \n",
    "    ax[1].plot(['non_blood','QSM'],[chi_nb,f_QSM(Y, nu, chi_nb)],'o')\n",
    "    ax[1].title.set_text('QSM')\n",
    "    ax[1].set_ylim(-0.1,0.05)\n",
    "    plt.show()"
   ]
  },
  {
   "cell_type": "code",
   "execution_count": 9,
   "id": "d2973692",
   "metadata": {},
   "outputs": [
    {
     "data": {
      "application/vnd.jupyter.widget-view+json": {
       "model_id": "b4899d5191194dd290d01516be8360d9",
       "version_major": 2,
       "version_minor": 0
      },
      "text/plain": [
       "interactive(children=(FloatSlider(value=1.0, continuous_update=False, description='S0', max=2.0), IntSlider(va…"
      ]
     },
     "metadata": {},
     "output_type": "display_data"
    }
   ],
   "source": [
    "interactive_plot = interactive(plot_QSM_qBOLD_GRE,S0=S0_slider, R2=R2_slider, Y=Y_slider, nu=nu_slider, chi_nb = chi_nb_slider)\n",
    "output = interactive_plot.children[-1]\n",
    "output.layout.height = '350px'\n",
    "interactive_plot"
   ]
  },
  {
   "cell_type": "code",
   "execution_count": 10,
   "id": "d7fa4e4d",
   "metadata": {},
   "outputs": [],
   "source": [
    "def plot_QSM_qBOLD_GESSE(S0, R2, Y, nu, chi_nb):\n",
    "    TE = (29+10*2)/1000\n",
    "    fig, axes = plt.subplots(nrows=1,ncols=2,figsize=(12,5),gridspec_kw={'width_ratios': [4, 1]})\n",
    "    ax=axes.ravel()\n",
    "    \n",
    "    t = np.linspace(0, 100, num=100)/1000\n",
    "    ax[0].plot(t*1000,f_qBOLD(t,S0, R2, Y, nu, chi_nb, TE))\n",
    "    ax[0].plot(t*1000,S0*np.exp(-R2*t))\n",
    "    \n",
    "    t_GESSE = np.linspace(29,29+32*2,32)/1000\n",
    "    ax[0].plot(t_GESSE*1000,f_qBOLD(t_GESSE,S0, R2, Y, nu, chi_nb, TE),'.r')\n",
    "    ax[0].title.set_text('qBOLD, TE = 49ms')\n",
    "    ax[0].set_xlabel('t [ms]')\n",
    "    ax[0].set_ylim(0, 1.1)\n",
    "    t_trans = 1.5/f_dw(Y,chi_nb)*1000 #Transition of Hypergeometric function \n",
    "    ax[0].fill_betweenx(y=[0,1.1],x1=0,x2=t_trans,alpha=0.2,color='grey')\n",
    "    ax[0].fill_betweenx(y=[0,1.1],x1=TE*1000-t_trans,x2=TE*1000+t_trans,alpha=0.2,color='grey')\n",
    "    \n",
    "    ax[1].plot(['non_blood','QSM'],[chi_nb,f_QSM(Y, nu, chi_nb)],'o')\n",
    "    ax[1].title.set_text('QSM')\n",
    "    ax[1].set_ylim(-0.1,0.05)\n",
    "    plt.show()"
   ]
  },
  {
   "cell_type": "code",
   "execution_count": 11,
   "id": "9138cf27",
   "metadata": {},
   "outputs": [
    {
     "data": {
      "application/vnd.jupyter.widget-view+json": {
       "model_id": "502dddd0c9d74c83900122bcc96d0a05",
       "version_major": 2,
       "version_minor": 0
      },
      "text/plain": [
       "interactive(children=(FloatSlider(value=1.0, continuous_update=False, description='S0', max=2.0), IntSlider(va…"
      ]
     },
     "metadata": {},
     "output_type": "display_data"
    }
   ],
   "source": [
    "interactive_plot = interactive(plot_QSM_qBOLD_GESSE,S0=S0_slider, R2=R2_slider, Y=Y_slider, nu=nu_slider, chi_nb = chi_nb_slider)\n",
    "output = interactive_plot.children[-1]\n",
    "output.layout.height = '350px'\n",
    "interactive_plot"
   ]
  },
  {
   "cell_type": "code",
   "execution_count": null,
   "id": "6a13030f",
   "metadata": {},
   "outputs": [],
   "source": [
    "def plot_QSM_qBOLD(S0, R2, Y, nu, chi_nb, TE):\n",
    "    fig, axes = plt.subplots(nrows=2,ncols=2,figsize=(12,10),gridspec_kw={'width_ratios': [4, 1]})\n",
    "    gs = axes[0, 1].get_gridspec()\n",
    "    \n",
    "    t = np.linspace(0, 70, num=100)/1000\n",
    "    qBOLD_values = f_qBOLD(t,S0, R2, Y, nu, chi_nb, TE/1000)\n",
    "    Exp_values = S0*np.exp(-R2*t)\n",
    "    \n",
    "    t_sampled = np.linspace(3,3+16*3,16)/1000\n",
    "    qBOLD_sampled = f_qBOLD(t_sampled,S0, R2, Y, nu, chi_nb, TE/1000)\n",
    "    \n",
    "    axes[0,0].plot(t*1000,qBOLD_values)\n",
    "    axes[0,0].plot(t*1000,Exp_values)\n",
    "    axes[0,0].plot(t_sampled*1000,qBOLD_sampled,'.r')\n",
    "    axes[0,0].title.set_text('qBOLD')\n",
    "    axes[0,0].set_ylim(0, 1.1)\n",
    "    t_trans = 1.5/f_dw(Y,chi_nb)*1000 #Transition of Hypergeometric function \n",
    "    #axes[0,0].vlines([t_trans,TE-t_trans,TE+t_trans],0,1.1,'k')\n",
    "    axes[0,0].fill_betweenx(y=[0,1.1],x1=0,x2=t_trans,alpha=0.2,color='grey')\n",
    "    axes[0,0].fill_betweenx(y=[0,1.1],x1=TE-t_trans,x2=TE+t_trans,alpha=0.2,color='grey')\n",
    "    \n",
    "    axes[1,0].plot(t*1000,qBOLD_values-Exp_values)\n",
    "    axes[1,0].plot(t_sampled*1000,qBOLD_sampled-S0*np.exp(-R2*t_sampled),'.r')\n",
    "    axes[1,0].set_xlabel('t [ms]')\n",
    "    axes[1,0].set_ylim(-0.15,0.01)\n",
    "    axes[1,0].fill_betweenx(y=[-0.15,0.01],x1=0,x2=t_trans,alpha=0.2,color='grey')\n",
    "    axes[1,0].fill_betweenx(y=[-0.15,0.01],x1=TE-t_trans,x2=TE+t_trans,alpha=0.2,color='grey')\n",
    "    \n",
    "    for ax in axes[:,1]:\n",
    "        ax.remove()\n",
    "    axbig = fig.add_subplot(gs[:,1])\n",
    "    axbig.plot(['non_blood','QSM'],[chi_nb,f_QSM(Y, nu, chi_nb)],'o')\n",
    "    axbig.title.set_text('QSM')\n",
    "    axbig.set_ylim(-0.1,0.05)\n",
    "    \n",
    "    \n",
    "    plt.show()"
   ]
  },
  {
   "cell_type": "code",
   "execution_count": null,
   "id": "cbc9dd77",
   "metadata": {},
   "outputs": [],
   "source": [
    "interactive_plot = interactive(plot_QSM_qBOLD,S0=S0_slider, R2=R2_slider, Y=Y_slider, nu=nu_slider, chi_nb = chi_nb_slider, TE=TE_slider)\n",
    "output = interactive_plot.children[-1]\n",
    "output.layout.height = '700px'\n",
    "interactive_plot"
   ]
  },
  {
   "cell_type": "code",
   "execution_count": 27,
   "id": "d75bd03e",
   "metadata": {},
   "outputs": [],
   "source": [
    "def plot_Smoker(S0, R2, Y, nu, chi_nb):\n",
    "    fig, axes = plt.subplots(nrows=2,ncols=1,figsize=(10,12))\n",
    "    \n",
    "    t = np.linspace(0, 160, num=100)/1000\n",
    "    t_GRE = np.linspace(4.5,4.5+(12-1)*5.5,12)/1000\n",
    "    t_GESSE = np.linspace(13.1,13.1+(12-1)*13.1,12)/1000\n",
    "    \n",
    "    qBOLD_values = f_qBOLD(t,S0 *0.9, R2, Y, nu, chi_nb, 1000)\n",
    "    GESSE_values = S0*np.exp(-R2*t)\n",
    "    \n",
    "    qBOLD_sampled = f_qBOLD(t_GRE,S0*0.9, R2, Y, nu, chi_nb, 1000)\n",
    "    GESSE_sampled = S0*np.exp(-R2*t_GESSE)\n",
    "    \n",
    "    axes[0].plot(t*1000,qBOLD_values,'r')\n",
    "    axes[0].plot(t*1000,GESSE_values,'b')\n",
    "    axes[0].plot(t_GRE*1000,qBOLD_sampled,'or')\n",
    "    axes[0].plot(t_GESSE*1000,GESSE_sampled,'ob')\n",
    "    \n",
    "    axes[0].set_ylim(0, 1.1)\n",
    "    axes[0].set_xlabel('t [ms]')\n",
    "    t_trans = 1.5/f_dw(Y,chi_nb)*1000 #Transition of Hypergeometric function \n",
    "    axes[0].fill_betweenx(y=[0,1.1],x1=0,x2=t_trans,alpha=0.2,color='grey')\n",
    "    \n",
    "    axes[1].plot(t*1000,qBOLD_values/GESSE_values,'r')\n",
    "    axes[1].plot(t_GRE*1000,qBOLD_sampled/(S0*np.exp(-R2*t_GRE)),'or')\n",
    "    #axes[1].plot(t_GESSE*1000,GESSE_sampled,'ob')\n",
    "    \n",
    "    #axes[1].set_xlim(0, 70)\n",
    "    #axes[1].set_ylim(0, 1.1)\n",
    "    axes[1].set_xlabel('t [ms]')\n",
    "    t_trans = 1.5/f_dw(Y,chi_nb)*1000 #Transition of Hypergeometric function \n",
    "    #axes[1].fill_betweenx(y=[0,1.1],x1=0,x2=t_trans,alpha=0.2,color='grey')\n",
    "    \n",
    "    plt.tight_layout()\n",
    "    plt.show()"
   ]
  },
  {
   "cell_type": "code",
   "execution_count": 28,
   "id": "08a44705",
   "metadata": {},
   "outputs": [
    {
     "data": {
      "application/vnd.jupyter.widget-view+json": {
       "model_id": "f1675e26d1464499806d1961fdc1f49c",
       "version_major": 2,
       "version_minor": 0
      },
      "text/plain": [
       "interactive(children=(FloatSlider(value=1.0, continuous_update=False, description='S0', max=2.0), IntSlider(va…"
      ]
     },
     "metadata": {},
     "output_type": "display_data"
    }
   ],
   "source": [
    "interactive_plot = interactive(plot_Smoker,S0=S0_slider, R2=R2_slider, Y=Y_slider, nu=nu_slider, chi_nb = chi_nb_slider, TE=TE_slider)\n",
    "output = interactive_plot.children[-1]\n",
    "output.layout.height = '900px'\n",
    "interactive_plot"
   ]
  },
  {
   "cell_type": "markdown",
   "id": "2bde46f4",
   "metadata": {},
   "source": [
    "Look at log(f_qBOLD)"
   ]
  },
  {
   "cell_type": "code",
   "execution_count": null,
   "id": "860d48fb",
   "metadata": {},
   "outputs": [],
   "source": [
    "def plot_QSM_qBOLD_log(S0, R2, Y, nu, chi_nb, TE):\n",
    "    fig, axes = plt.subplots(nrows=2,ncols=2,figsize=(12,10),gridspec_kw={'width_ratios': [4, 1]})\n",
    "    gs = axes[0, 1].get_gridspec()\n",
    "    \n",
    "    t = np.linspace(0, 70, num=100)/1000\n",
    "    qBOLD_values = f_qBOLD(t,S0, R2, Y, nu, chi_nb, TE/1000)\n",
    "    Exp_values = S0*np.exp(-R2*t)\n",
    "    \n",
    "    t_sampled = np.linspace(3,3+16*3,16)/1000\n",
    "    qBOLD_sampled = f_qBOLD(t_sampled,S0, R2, Y, nu, chi_nb, TE/1000)\n",
    "    \n",
    "    axes[0,0].plot(t*1000,qBOLD_values)\n",
    "    axes[0,0].plot(t*1000,Exp_values)\n",
    "    axes[0,0].plot(t_sampled*1000,qBOLD_sampled,'.r')\n",
    "    axes[0,0].title.set_text('qBOLD')\n",
    "    #axes[0,0].set_ylim(0, 1.1)\n",
    "    axes[0,0].set_yscale('log')\n",
    "    t_trans = 1.5/f_dw(Y,chi_nb)*1000 #Transition of Hypergeometric function \n",
    "    #axes[0,0].vlines([t_trans,TE-t_trans,TE+t_trans],0,1.1,'k')\n",
    "    axes[0,0].fill_betweenx(y=[0,1.1],x1=0,x2=t_trans,alpha=0.2,color='grey')\n",
    "    axes[0,0].fill_betweenx(y=[0,1.1],x1=TE-t_trans,x2=TE+t_trans,alpha=0.2,color='grey')\n",
    "    \n",
    "    axes[1,0].plot(t*1000,qBOLD_values-Exp_values)\n",
    "    axes[1,0].plot(t_sampled*1000,qBOLD_sampled-S0*np.exp(-R2*t_sampled),'.r')\n",
    "    axes[1,0].set_xlabel('t [ms]')\n",
    "    axes[1,0].set_ylim(-0.15,0.01)\n",
    "    axes[1,0].fill_betweenx(y=[-0.15,0.01],x1=0,x2=t_trans,alpha=0.2,color='grey')\n",
    "    axes[1,0].fill_betweenx(y=[-0.15,0.01],x1=TE-t_trans,x2=TE+t_trans,alpha=0.2,color='grey')\n",
    "    \n",
    "    for ax in axes[:,1]:\n",
    "        ax.remove()\n",
    "    axbig = fig.add_subplot(gs[:,1])\n",
    "    axbig.plot(['non_blood','QSM'],[chi_nb,f_QSM(Y, nu, chi_nb)],'o')\n",
    "    axbig.title.set_text('QSM')\n",
    "    axbig.set_ylim(-0.1,0.05)\n",
    "    \n",
    "    \n",
    "    plt.show()"
   ]
  },
  {
   "cell_type": "code",
   "execution_count": null,
   "id": "d62b62f9",
   "metadata": {},
   "outputs": [],
   "source": [
    "interactive_plot = interactive(plot_QSM_qBOLD_log,S0=S0_slider, R2=R2_slider, Y=Y_slider, nu=nu_slider, chi_nb = chi_nb_slider, TE=TE_slider)\n",
    "output = interactive_plot.children[-1]\n",
    "output.layout.height = '700px'\n",
    "interactive_plot"
   ]
  },
  {
   "cell_type": "markdown",
   "id": "0e9d247c",
   "metadata": {},
   "source": [
    "Compare Y=0.6,nu=0.04 with Y=0.3, nu=0.02. They look very similar in shape of qBOLD and in QSM, but width of grey areas is different "
   ]
  },
  {
   "cell_type": "code",
   "execution_count": null,
   "id": "061658c2",
   "metadata": {},
   "outputs": [],
   "source": [
    "def plot_fit_comparison(R2,chi_nb,TE,t,Y1,Y2,Y3,Y4,nu1,nu2,nu3,nu4,true_value):\n",
    "    fig, axes = plt.subplots(nrows=2,ncols=2,figsize=(12,10),gridspec_kw={'width_ratios': [4, 1]})\n",
    "    gs = axes[0, 1].get_gridspec()\n",
    "\n",
    "    qBOLD_values1 = f_qBOLD(t=t, S0=1, R2=R2, Y=Y1, nu=nu1, chi_nb=chi_nb, TE=TE)\n",
    "    qBOLD_values2 = f_qBOLD(t=t, S0=1, R2=R2, Y=Y2, nu=nu2, chi_nb=chi_nb, TE=TE)\n",
    "    qBOLD_values3 = f_qBOLD(t=t, S0=1, R2=R2, Y=Y3, nu=nu3, chi_nb=chi_nb,TE=TE)\n",
    "    qBOLD_values4 = f_qBOLD(t=t, S0=1, R2=R2, Y=Y4, nu=nu4, chi_nb=chi_nb,TE=TE)\n",
    "    Exp_values = 1*np.exp(-R2*t)\n",
    "\n",
    "    t_sampled = np.linspace(3,3+16*3,16)/1000\n",
    "    qBOLD_sampled1 = f_qBOLD(t=t_sampled, S0=1, R2=R2, Y=Y1, nu=nu1, chi_nb=chi_nb,TE=TE)\n",
    "    qBOLD_sampled2 = f_qBOLD(t=t_sampled, S0=1, R2=R2, Y=Y2, nu=nu2, chi_nb=chi_nb,TE=TE)\n",
    "    qBOLD_sampled3 = f_qBOLD(t=t_sampled, S0=1, R2=R2, Y=Y3, nu=nu3, chi_nb=chi_nb,TE=TE)\n",
    "    qBOLD_sampled4 = f_qBOLD(t=t_sampled, S0=1, R2=R2, Y=Y4, nu=nu4, chi_nb=chi_nb,TE=TE)\n",
    "\n",
    "    t_trans1 = 1.5/f_dw(Y1,chi_nb)*1000 #Transition of Hypergeometric function \n",
    "    t_trans2 = 1.5/f_dw(Y2,chi_nb)*1000 #Transition of Hypergeometric function \n",
    "    t_trans3 = 1.5/f_dw(Y3,chi_nb)*1000 #Transition of Hypergeometric function \n",
    "    t_trans4 = 1.5/f_dw(Y4,chi_nb)*1000 #Transition of Hypergeometric function \n",
    "\n",
    "    if true_value == 2:\n",
    "        fig.suptitle(\"True Y={0} nu ={1}, fitted for TE={2} ms\".format(Y2,nu2,TE*1000),fontsize='xx-large')\n",
    "    if true_value == 3:\n",
    "        fig.suptitle(\"True Y={0} nu ={1}, fitted for TE={2} ms\".format(Y3,nu3,TE*1000),fontsize='xx-large')\n",
    "\n",
    "    axes[0,0].plot(t*1000,qBOLD_values1,'r')\n",
    "    axes[0,0].plot(t*1000,qBOLD_values2,'g')\n",
    "    axes[0,0].plot(t*1000,qBOLD_values3,'b')\n",
    "    axes[0,0].plot(t*1000,qBOLD_values4,'y')\n",
    "    axes[0,0].plot(t*1000,Exp_values,'k',label='R2 = ' + str(R2)+' Hz')\n",
    "    axes[0,0].plot(t_sampled*1000,qBOLD_sampled1,'.r',label=\"Y={0} nu={1}\".format(Y1,nu1))\n",
    "    axes[0,0].plot(t_sampled*1000,qBOLD_sampled2,'.g',label=\"Y={0} nu={1}\".format(Y2,nu2))\n",
    "    axes[0,0].plot(t_sampled*1000,qBOLD_sampled3,'.b',label=\"Y={0} nu={1}\".format(Y3,nu3))\n",
    "    axes[0,0].plot(t_sampled*1000,qBOLD_sampled4,'.y',label=\"Y={0} nu={1}\".format(Y4,nu4))\n",
    "    axes[0,0].legend()\n",
    "\n",
    "    axes[0,0].fill_betweenx(y=[0.3,0.4],x1=0,x2=t_trans1,alpha=0.2,color='r')\n",
    "    axes[0,0].fill_betweenx(y=[0.3,0.4],x1=TE*1000-t_trans1,x2=TE*1000+t_trans1,alpha=0.2,color='r')\n",
    "    axes[0,0].fill_betweenx(y=[0.2,0.3],x1=0,x2=t_trans2,alpha=0.2,color='g')\n",
    "    axes[0,0].fill_betweenx(y=[0.2,0.3],x1=TE*1000-t_trans2,x2=TE*1000+t_trans2,alpha=0.2,color='g')\n",
    "    axes[0,0].fill_betweenx(y=[0.1,0.2],x1=0,x2=t_trans3,alpha=0.2,color='b')\n",
    "    axes[0,0].fill_betweenx(y=[0.1,0.2],x1=TE*1000-t_trans3,x2=TE*1000+t_trans3,alpha=0.2,color='b')\n",
    "    axes[0,0].fill_betweenx(y=[0,0.1],x1=0,x2=t_trans4,alpha=0.2,color='y')\n",
    "    axes[0,0].fill_betweenx(y=[0,0.1],x1=TE*1000-t_trans4,x2=TE*1000+t_trans4,alpha=0.2,color='y')\n",
    "\n",
    "    axes[0,0].title.set_text('qBOLD')\n",
    "    axes[0,0].set_ylim(0, 1.1)\n",
    "    #axes[0,0].set_yscale('log')\n",
    "\n",
    "    axes[1,0].plot(t*1000,qBOLD_values1/Exp_values,'r')\n",
    "    axes[1,0].plot(t*1000,qBOLD_values2/Exp_values,'g')\n",
    "    axes[1,0].plot(t*1000,qBOLD_values3/Exp_values,'b')\n",
    "    axes[1,0].plot(t*1000,qBOLD_values4/Exp_values,'y')\n",
    "    axes[1,0].plot(t_sampled*1000,qBOLD_sampled1*np.exp(R2*t_sampled),'.r',label=\"Y={0} nu={1}\".format(Y1,nu1))\n",
    "    axes[1,0].plot(t_sampled*1000,qBOLD_sampled2*np.exp(R2*t_sampled),'.g',label=\"Y={0} nu={1}\".format(Y2,nu2))\n",
    "    axes[1,0].plot(t_sampled*1000,qBOLD_sampled3*np.exp(R2*t_sampled),'.b',label=\"Y={0} nu={1}\".format(Y3,nu3))\n",
    "    axes[1,0].plot(t_sampled*1000,qBOLD_sampled4*np.exp(R2*t_sampled),'.y',label=\"Y={0} nu={1}\".format(Y4,nu4))\n",
    "    axes[1,0].legend()\n",
    "    axes[1,0].set_xlabel('t [ms]')\n",
    "    #axes[1,0].set_ylim(-0.15,0.01)\n",
    "\n",
    "    for ax in axes[:,1]:\n",
    "        ax.remove()\n",
    "    axbig = fig.add_subplot(gs[:,1])\n",
    "    #axbig.plot(['non_blood'],-0.04,'ok')\n",
    "    axbig.plot(['1'],f_QSM(Y=Y1, nu=nu1, chi_nb=chi_nb),'or')\n",
    "    axbig.plot(['2'],f_QSM(Y=Y2, nu=nu2, chi_nb=chi_nb),'og')\n",
    "    axbig.plot(['3'],f_QSM(Y=Y3, nu=nu3, chi_nb=chi_nb),'ob')\n",
    "    axbig.plot(['4'],f_QSM(Y=Y4, nu=nu4, chi_nb=chi_nb),'oy')\n",
    "    axbig.title.set_text('QSM')\n",
    "    axbig.set_ylim(-0.1,0.05)\n",
    "\n",
    "    plt.show()"
   ]
  },
  {
   "cell_type": "code",
   "execution_count": null,
   "id": "f9a6bcd5",
   "metadata": {},
   "outputs": [],
   "source": [
    "S0=1\n",
    "R2=12    \n",
    "Y=0.7\n",
    "nu=0.02\n",
    "chi_nb=-0.08\n",
    "TE=40/1000\n",
    "t_sampled = np.linspace(3,3+16*3,16)/1000\n",
    "#f_qBOLD(t=t, S0=1, R2=R2, Y=Y1, nu=nu1, chi_nb=chi_nb, TE=TE)\n",
    "ydata = f_qBOLD(t_sampled, S0, R2, Y, nu, chi_nb, TE)\n",
    "\n",
    "def f_qBOLD_nu(t,nu):\n",
    "    return f_qBOLD(t,1,12,0.5,nu,-0.08,40/1000)\n",
    "\n",
    "popt, pcov = curve_fit(f_qBOLD_nu, t_sampled, ydata)\n",
    "print(popt)"
   ]
  },
  {
   "cell_type": "code",
   "execution_count": null,
   "id": "ba5f9b0d",
   "metadata": {},
   "outputs": [],
   "source": [
    "R2=12    \n",
    "chi_nb=-0.08\n",
    "TE=40/1000\n",
    "t = np.linspace(0, 70, num=100)/1000\n",
    "Y1=0.5\n",
    "Y2=0.7\n",
    "Y3=0.8\n",
    "Y4=0.9\n",
    "nu1=0.0077\n",
    "nu2=0.02\n",
    "nu3=0.046\n",
    "nu4=0.24\n",
    "\n",
    "plot_fit_comparison(R2,chi_nb,TE,t,Y1,Y2,Y3,Y4,nu1,nu2,nu3,nu4,2)"
   ]
  },
  {
   "cell_type": "code",
   "execution_count": null,
   "id": "11a68b93",
   "metadata": {},
   "outputs": [],
   "source": [
    "R2=12    \n",
    "chi_nb=-0.08\n",
    "TE=70/1000\n",
    "t = np.linspace(0, 70, num=100)/1000\n",
    "Y1=0.5\n",
    "Y2=0.7\n",
    "Y3=0.8\n",
    "Y4=0.9\n",
    "nu1=0.0077\n",
    "nu2=0.02\n",
    "nu3=0.046\n",
    "nu4=0.24\n",
    "\n",
    "plot_fit_comparison(R2,chi_nb,TE,t,Y1,Y2,Y3,Y4,nu1,nu2,nu3,nu4,2)\n",
    "\n",
    "#actually fitted for TE 40 ms"
   ]
  },
  {
   "cell_type": "code",
   "execution_count": null,
   "id": "82c14ecf",
   "metadata": {},
   "outputs": [],
   "source": [
    "R2=12    \n",
    "chi_nb=-0.08\n",
    "TE=70/1000\n",
    "t = np.linspace(0, 70, num=100)/1000\n",
    "Y1=0.5\n",
    "Y2=0.7\n",
    "Y3=0.8\n",
    "Y4=0.9\n",
    "nu1=0.00917\n",
    "nu2=0.02\n",
    "nu3=0.043\n",
    "nu4=0.2096\n",
    "\n",
    "plot_fit_comparison(R2,chi_nb,TE,t,Y1,Y2,Y3,Y4,nu1,nu2,nu3,nu4,2)"
   ]
  },
  {
   "cell_type": "code",
   "execution_count": null,
   "id": "fc6af6d3",
   "metadata": {},
   "outputs": [],
   "source": [
    "R2=12    \n",
    "chi_nb=-0.08\n",
    "TE=140/1000\n",
    "t = np.linspace(0, 70, num=100)/1000\n",
    "Y1=0.5\n",
    "Y2=0.7\n",
    "Y3=0.8\n",
    "Y4=0.9\n",
    "nu1=0.00981645\n",
    "nu2=0.02\n",
    "nu3=0.039\n",
    "nu4=0.176489\n",
    "\n",
    "plot_fit_comparison(R2,chi_nb,TE,t,Y1,Y2,Y3,Y4,nu1,nu2,nu3,nu4,2)"
   ]
  },
  {
   "cell_type": "code",
   "execution_count": null,
   "id": "2485bce4",
   "metadata": {},
   "outputs": [],
   "source": [
    "R2=12    \n",
    "chi_nb=-0.08\n",
    "TE=70/1000\n",
    "t = np.linspace(0, 70, num=100)/1000\n",
    "Y1=0.85\n",
    "Y2=0.90\n",
    "Y3=0.93\n",
    "Y4=0.95\n",
    "nu1=0.00286\n",
    "nu2=0.00754\n",
    "nu3=0.02\n",
    "nu4=0.0603\n",
    "plot_fit_comparison(R2,chi_nb,TE,t,Y1,Y2,Y3,Y4,nu1,nu2,nu3,nu4,3)\n",
    "   "
   ]
  },
  {
   "cell_type": "code",
   "execution_count": 31,
   "id": "703b0d60",
   "metadata": {},
   "outputs": [
    {
     "data": {
      "image/png": "[encoded data removed]",
      "text/plain": [
       "<Figure size 432x288 with 1 Axes>"
      ]
     },
     "metadata": {
      "needs_background": "light"
     },
     "output_type": "display_data"
    }
   ],
   "source": [
    "# https://onlinelibrary.wiley.com/doi/10.1002/mrm.24984\n",
    "# Noninvasive MRI measurement of the absolute cerebral blood volume–cerebral blood flow relationship during visual stimulation in healthy humans\n",
    "# Figure 4 shows curves of female and male CBF to CBV relation for each gender and for 9 ROIs.\n",
    "# The curves vary a lot but the Smoker paper uses the average equation CBV = 2.1 *CBF^0.32 for everyone and everywhere\n",
    "CBF = np.linspace(50,200,50)\n",
    "plt.plot(CBF, 2.1 * pow(CBF,0.32),label='average')\n",
    "plt.plot(CBF, 0.8 * pow(CBF,0.51),label='females')\n",
    "plt.plot(CBF, 4.4 * pow(CBF,0.15),label='males')\n",
    "plt.legend()\n",
    "plt.show()\n",
    "# https://onlinelibrary.wiley.com/doi/full/10.1002/mrm.10257?sid=nlm%3Apubmed\n",
    "# Cerebral venous and arterial blood volumes can be estimated separately in humans using magnetic resonance imaging\n",
    "# DBV = 0.77 * CBV \n",
    "# not sure how trustworthy that 0.77 is. the images are very blurry and its a whole brain average.\n",
    "# alpha = DBV/CBV=0.77 is used a lot in the QSM equation \n"
   ]
  },
  {
   "cell_type": "code",
   "execution_count": null,
   "id": "5897f6dc",
   "metadata": {},
   "outputs": [],
   "source": []
  }
 ],
 "metadata": {
  "kernelspec": {
   "display_name": "Python-GPU-Kernel",
   "language": "python",
   "name": "python-gpu-kernel"
  },
  "language_info": {
   "codemirror_mode": {
    "name": "ipython",
    "version": 3
   },
   "file_extension": ".py",
   "mimetype": "text/x-python",
   "name": "python",
   "nbconvert_exporter": "python",
   "pygments_lexer": "ipython3",
   "version": "3.8.10"
  }
 },
 "nbformat": 4,
 "nbformat_minor": 5
}
